{
  "nbformat": 4,
  "nbformat_minor": 0,
  "metadata": {
    "colab": {
      "name": "BiLSTM_Toxic_comments.ipynb",
      "provenance": [],
      "collapsed_sections": [],
      "authorship_tag": "ABX9TyPzSE3OTkXsnpCIqShL9r5s",
      "include_colab_link": true
    },
    "kernelspec": {
      "name": "python3",
      "display_name": "Python 3"
    },
    "language_info": {
      "name": "python"
    }
  },
  "cells": [
    {
      "cell_type": "markdown",
      "metadata": {
        "id": "view-in-github",
        "colab_type": "text"
      },
      "source": [
        "<a href=\"https://colab.research.google.com/github/dpk-a7/Deep-learning/blob/main/BiLSTM_Toxic_comments.ipynb\" target=\"_parent\"><img src=\"https://colab.research.google.com/assets/colab-badge.svg\" alt=\"Open In Colab\"/></a>"
      ]
    },
    {
      "cell_type": "code",
      "metadata": {
        "colab": {
          "base_uri": "https://localhost:8080/"
        },
        "id": "3BfSCDVeyTZW",
        "outputId": "952971b1-30c7-4fcd-9538-392d1a02711c"
      },
      "source": [
        "!wget http://nlp.stanford.edu/data/glove.6B.zip\n",
        "!pip install -q kaggle\n",
        "!pip install -q kaggle-cli\n",
        "!mkdir -p ~/.kaggle\n",
        "!cp \"kaggle.json\" ~/.kaggle/\n",
        "!cat ~/.kaggle/kaggle.json \n",
        "!chmod 600 ~/.kaggle/kaggle.json# For competition datasets\n",
        "!kaggle competitions download -c jigsaw-toxic-comment-classification-challenge"
      ],
      "execution_count": 1,
      "outputs": [
        {
          "output_type": "stream",
          "text": [
            "--2021-07-15 06:17:07--  http://nlp.stanford.edu/data/glove.6B.zip\n",
            "Resolving nlp.stanford.edu (nlp.stanford.edu)... 171.64.67.140\n",
            "Connecting to nlp.stanford.edu (nlp.stanford.edu)|171.64.67.140|:80... connected.\n",
            "HTTP request sent, awaiting response... 302 Found\n",
            "Location: https://nlp.stanford.edu/data/glove.6B.zip [following]\n",
            "--2021-07-15 06:17:08--  https://nlp.stanford.edu/data/glove.6B.zip\n",
            "Connecting to nlp.stanford.edu (nlp.stanford.edu)|171.64.67.140|:443... connected.\n",
            "HTTP request sent, awaiting response... 301 Moved Permanently\n",
            "Location: http://downloads.cs.stanford.edu/nlp/data/glove.6B.zip [following]\n",
            "--2021-07-15 06:17:08--  http://downloads.cs.stanford.edu/nlp/data/glove.6B.zip\n",
            "Resolving downloads.cs.stanford.edu (downloads.cs.stanford.edu)... 171.64.64.22\n",
            "Connecting to downloads.cs.stanford.edu (downloads.cs.stanford.edu)|171.64.64.22|:80... connected.\n",
            "HTTP request sent, awaiting response... 200 OK\n",
            "Length: 862182613 (822M) [application/zip]\n",
            "Saving to: ‘glove.6B.zip’\n",
            "\n",
            "glove.6B.zip        100%[===================>] 822.24M  4.84MB/s    in 2m 41s  \n",
            "\n",
            "2021-07-15 06:19:49 (5.10 MB/s) - ‘glove.6B.zip’ saved [862182613/862182613]\n",
            "\n",
            "\u001b[K     |████████████████████████████████| 81kB 2.9MB/s \n",
            "\u001b[K     |████████████████████████████████| 4.2MB 10.4MB/s \n",
            "\u001b[K     |████████████████████████████████| 51kB 6.2MB/s \n",
            "\u001b[K     |████████████████████████████████| 112kB 55.6MB/s \n",
            "\u001b[K     |████████████████████████████████| 143kB 54.9MB/s \n",
            "\u001b[?25h  Building wheel for kaggle-cli (setup.py) ... \u001b[?25l\u001b[?25hdone\n",
            "  Building wheel for lxml (setup.py) ... \u001b[?25lerror\n",
            "\u001b[31m  ERROR: Failed building wheel for lxml\u001b[0m\n",
            "\u001b[?25h  Building wheel for PrettyTable (setup.py) ... \u001b[?25l\u001b[?25hdone\n",
            "  Building wheel for pyperclip (setup.py) ... \u001b[?25l\u001b[?25hdone\n",
            "    Running setup.py install for lxml ... \u001b[?25l\u001b[?25herror\n",
            "\u001b[31mERROR: Command errored out with exit status 1: /usr/bin/python3 -u -c 'import sys, setuptools, tokenize; sys.argv[0] = '\"'\"'/tmp/pip-install-spzhypfk/lxml/setup.py'\"'\"'; __file__='\"'\"'/tmp/pip-install-spzhypfk/lxml/setup.py'\"'\"';f=getattr(tokenize, '\"'\"'open'\"'\"', open)(__file__);code=f.read().replace('\"'\"'\\r\\n'\"'\"', '\"'\"'\\n'\"'\"');f.close();exec(compile(code, __file__, '\"'\"'exec'\"'\"'))' install --record /tmp/pip-record-p9bkqggn/install-record.txt --single-version-externally-managed --compile Check the logs for full command output.\u001b[0m\n",
            "{\"username\":\"deepakavudiappan\",\"key\":\"f85a7e006b065d4a782c1ab2b3ff214e\"}chmod: cannot access '/root/.kaggle/kaggle.json#': No such file or directory\n",
            "chmod: cannot access 'For': No such file or directory\n",
            "chmod: cannot access 'competition': No such file or directory\n",
            "chmod: cannot access 'datasets': No such file or directory\n",
            "Warning: Your Kaggle API key is readable by other users on this system! To fix this, you can run 'chmod 600 /root/.kaggle/kaggle.json'\n",
            "Warning: Looks like you're using an outdated API Version, please consider updating (server 1.5.12 / client 1.5.4)\n",
            "Downloading test_labels.csv.zip to /content\n",
            "  0% 0.00/1.46M [00:00<?, ?B/s]\n",
            "100% 1.46M/1.46M [00:00<00:00, 45.4MB/s]\n",
            "Downloading sample_submission.csv.zip to /content\n",
            "  0% 0.00/1.39M [00:00<?, ?B/s]\n",
            "100% 1.39M/1.39M [00:00<00:00, 161MB/s]\n",
            "Downloading test.csv.zip to /content\n",
            " 38% 9.00M/23.4M [00:00<00:00, 64.7MB/s]\n",
            "100% 23.4M/23.4M [00:00<00:00, 113MB/s] \n",
            "Downloading train.csv.zip to /content\n",
            " 34% 9.00M/26.3M [00:00<00:00, 55.1MB/s]\n",
            "100% 26.3M/26.3M [00:00<00:00, 104MB/s] \n"
          ],
          "name": "stdout"
        }
      ]
    },
    {
      "cell_type": "code",
      "metadata": {
        "colab": {
          "base_uri": "https://localhost:8080/"
        },
        "id": "le_bnWtZyXeB",
        "outputId": "84f92af1-48c0-47b5-acfb-23ec24157da3"
      },
      "source": [
        "!unzip glove.6B.zip\n",
        "!unzip train.csv.zip\n",
        "!unzip test.csv.zip"
      ],
      "execution_count": 2,
      "outputs": [
        {
          "output_type": "stream",
          "text": [
            "Archive:  glove.6B.zip\n",
            "  inflating: glove.6B.50d.txt        \n",
            "  inflating: glove.6B.100d.txt       \n",
            "  inflating: glove.6B.200d.txt       \n",
            "  inflating: glove.6B.300d.txt       \n",
            "Archive:  train.csv.zip\n",
            "  inflating: train.csv               \n",
            "Archive:  test.csv.zip\n",
            "  inflating: test.csv                \n"
          ],
          "name": "stdout"
        }
      ]
    },
    {
      "cell_type": "code",
      "metadata": {
        "id": "0BLawIgoyaCG"
      },
      "source": [
        "import os\n",
        "import sys\n",
        "import numpy as np\n",
        "import pandas as pd\n",
        "import matplotlib.pyplot as plt\n",
        "from keras.models import Model\n",
        "from keras.layers import Dense, Embedding, Input\n",
        "from keras.layers import LSTM, Bidirectional, GlobalMaxPool1D, Dropout\n",
        "from keras.preprocessing.text import Tokenizer\n",
        "from keras.preprocessing.sequence import pad_sequences\n",
        "from keras.optimizers import Adam\n",
        "from sklearn.metrics import roc_auc_score"
      ],
      "execution_count": 3,
      "outputs": []
    },
    {
      "cell_type": "code",
      "metadata": {
        "id": "pFLpSG8aycCQ"
      },
      "source": [
        "MAX_SEQ_LENGTH = 100\n",
        "MAX_VOCAB_SIZE = 20000\n",
        "EMBEDDING_DIM = 100\n",
        "VALIDATION_SPLIT = 0.2\n",
        "BATCH_SIZE = 128\n",
        "EPOCHS = 10"
      ],
      "execution_count": 4,
      "outputs": []
    },
    {
      "cell_type": "code",
      "metadata": {
        "colab": {
          "base_uri": "https://localhost:8080/"
        },
        "id": "UjYrnPvlyfUP",
        "outputId": "4e3405be-2f3c-4fdb-ec6d-74aa3c7da99a"
      },
      "source": [
        "#loading word vectors..\n",
        "word2vec = {} #key = word: value = vectors\n",
        "with open(os.path.join(\"glove.6B.%sd.txt\" % EMBEDDING_DIM)) as f:\n",
        "  for line in f:\n",
        "    values = line.split()\n",
        "    word = values[0]\n",
        "    vec = np.asarray(values[1:], dtype= 'float32')\n",
        "    word2vec[word] = vec\n",
        "print(\"found %s word vectors\" % len(word2vec))"
      ],
      "execution_count": 5,
      "outputs": [
        {
          "output_type": "stream",
          "text": [
            "found 400000 word vectors\n"
          ],
          "name": "stdout"
        }
      ]
    },
    {
      "cell_type": "code",
      "metadata": {
        "colab": {
          "base_uri": "https://localhost:8080/"
        },
        "id": "EZDq7-jWyhbN",
        "outputId": "7106c265-c6c4-4803-d03f-f88de771551a"
      },
      "source": [
        "word2vec['the']"
      ],
      "execution_count": 6,
      "outputs": [
        {
          "output_type": "execute_result",
          "data": {
            "text/plain": [
              "array([-0.038194, -0.24487 ,  0.72812 , -0.39961 ,  0.083172,  0.043953,\n",
              "       -0.39141 ,  0.3344  , -0.57545 ,  0.087459,  0.28787 , -0.06731 ,\n",
              "        0.30906 , -0.26384 , -0.13231 , -0.20757 ,  0.33395 , -0.33848 ,\n",
              "       -0.31743 , -0.48336 ,  0.1464  , -0.37304 ,  0.34577 ,  0.052041,\n",
              "        0.44946 , -0.46971 ,  0.02628 , -0.54155 , -0.15518 , -0.14107 ,\n",
              "       -0.039722,  0.28277 ,  0.14393 ,  0.23464 , -0.31021 ,  0.086173,\n",
              "        0.20397 ,  0.52624 ,  0.17164 , -0.082378, -0.71787 , -0.41531 ,\n",
              "        0.20335 , -0.12763 ,  0.41367 ,  0.55187 ,  0.57908 , -0.33477 ,\n",
              "       -0.36559 , -0.54857 , -0.062892,  0.26584 ,  0.30205 ,  0.99775 ,\n",
              "       -0.80481 , -3.0243  ,  0.01254 , -0.36942 ,  2.2167  ,  0.72201 ,\n",
              "       -0.24978 ,  0.92136 ,  0.034514,  0.46745 ,  1.1079  , -0.19358 ,\n",
              "       -0.074575,  0.23353 , -0.052062, -0.22044 ,  0.057162, -0.15806 ,\n",
              "       -0.30798 , -0.41625 ,  0.37972 ,  0.15006 , -0.53212 , -0.2055  ,\n",
              "       -1.2526  ,  0.071624,  0.70565 ,  0.49744 , -0.42063 ,  0.26148 ,\n",
              "       -1.538   , -0.30223 , -0.073438, -0.28312 ,  0.37104 , -0.25217 ,\n",
              "        0.016215, -0.017099, -0.38984 ,  0.87424 , -0.72569 , -0.51058 ,\n",
              "       -0.52028 , -0.1459  ,  0.8278  ,  0.27062 ], dtype=float32)"
            ]
          },
          "metadata": {
            "tags": []
          },
          "execution_count": 6
        }
      ]
    },
    {
      "cell_type": "code",
      "metadata": {
        "colab": {
          "base_uri": "https://localhost:8080/"
        },
        "id": "AaDHHPThyi8u",
        "outputId": "7145bace-4a6e-4a2e-b13f-0f778e5878d3"
      },
      "source": [
        "#Loading comments\n",
        "train = pd.read_csv(\"train.csv\")\n",
        "train.columns"
      ],
      "execution_count": 7,
      "outputs": [
        {
          "output_type": "execute_result",
          "data": {
            "text/plain": [
              "Index(['id', 'comment_text', 'toxic', 'severe_toxic', 'obscene', 'threat',\n",
              "       'insult', 'identity_hate'],\n",
              "      dtype='object')"
            ]
          },
          "metadata": {
            "tags": []
          },
          "execution_count": 7
        }
      ]
    },
    {
      "cell_type": "code",
      "metadata": {
        "id": "aUI2jUGXylQ9"
      },
      "source": [
        "sentences = train[\"comment_text\"].fillna(\"DUMMY_VALUE\").values\n",
        "possible_labels = ['toxic', 'severe_toxic', 'obscene',\n",
        "                   'threat','insult', 'identity_hate']\n",
        "targets = train[possible_labels].values"
      ],
      "execution_count": 8,
      "outputs": []
    },
    {
      "cell_type": "code",
      "metadata": {
        "colab": {
          "base_uri": "https://localhost:8080/"
        },
        "id": "3AI_w9TkynHe",
        "outputId": "a9205184-419b-4696-bdb9-779f00d295ef"
      },
      "source": [
        "print(\"max sequence length:\",max(len(s)for s in sentences))\n",
        "print(\"min sequence length:\",min(len(s)for s in sentences))\n",
        "s = sorted(len(s) for s in sentences)\n",
        "print(\"median sequence length:\", s[len(s)//2])"
      ],
      "execution_count": 9,
      "outputs": [
        {
          "output_type": "stream",
          "text": [
            "max sequence length: 5000\n",
            "min sequence length: 6\n",
            "median sequence length: 205\n"
          ],
          "name": "stdout"
        }
      ]
    },
    {
      "cell_type": "code",
      "metadata": {
        "id": "Kg-8QOzYyqG2"
      },
      "source": [
        "tokenizer = Tokenizer(num_words = MAX_VOCAB_SIZE)\n",
        "tokenizer.fit_on_texts(sentences)\n",
        "sequences = tokenizer.texts_to_sequences(sentences)"
      ],
      "execution_count": 10,
      "outputs": []
    },
    {
      "cell_type": "code",
      "metadata": {
        "colab": {
          "base_uri": "https://localhost:8080/"
        },
        "id": "QyG1ZzyLysBG",
        "outputId": "2d79739b-97ab-4d61-d160-ab9dee457aeb"
      },
      "source": [
        "word2idx = tokenizer.word_index\n",
        "print(\"found %s unique tokens\" % len(word2idx))"
      ],
      "execution_count": 11,
      "outputs": [
        {
          "output_type": "stream",
          "text": [
            "found 210337 unique tokens\n"
          ],
          "name": "stdout"
        }
      ]
    },
    {
      "cell_type": "code",
      "metadata": {
        "colab": {
          "base_uri": "https://localhost:8080/"
        },
        "id": "6kOKqj2xyt6F",
        "outputId": "470c041e-1374-445f-ca52-f27afbb4a8c2"
      },
      "source": [
        "data = pad_sequences(sequences, maxlen = MAX_SEQ_LENGTH)\n",
        "print(\"Shape of data tensor:\", data.shape)"
      ],
      "execution_count": 12,
      "outputs": [
        {
          "output_type": "stream",
          "text": [
            "Shape of data tensor: (159571, 100)\n"
          ],
          "name": "stdout"
        }
      ]
    },
    {
      "cell_type": "code",
      "metadata": {
        "colab": {
          "base_uri": "https://localhost:8080/"
        },
        "id": "7IBqwC7Zyw3Q",
        "outputId": "c7576bf2-3ab1-4d90-fa9f-77b3b77dd7f5"
      },
      "source": [
        "print(\"Filling pre-trained embeddings..\")\n",
        "num_words = min(MAX_VOCAB_SIZE, len(word2idx)+1)\n",
        "embedding_matrix = np.zeros((num_words, EMBEDDING_DIM))\n",
        "for word, i in word2idx.items():\n",
        "  if i < MAX_VOCAB_SIZE:\n",
        "    embedding_vector = word2vec.get(word)\n",
        "    if embedding_vector is not None:\n",
        "      embedding_matrix[i] = embedding_vector"
      ],
      "execution_count": 13,
      "outputs": [
        {
          "output_type": "stream",
          "text": [
            "Filling pre-trained embeddings..\n"
          ],
          "name": "stdout"
        }
      ]
    },
    {
      "cell_type": "code",
      "metadata": {
        "id": "ag0rhlk1yymm"
      },
      "source": [
        "embedding_layer = Embedding(\n",
        "    num_words,\n",
        "    EMBEDDING_DIM,\n",
        "    weights = [embedding_matrix],\n",
        "    input_length = MAX_SEQ_LENGTH,\n",
        "    trainable = False\n",
        ")"
      ],
      "execution_count": 14,
      "outputs": []
    },
    {
      "cell_type": "code",
      "metadata": {
        "id": "XTjYQki3y0G9"
      },
      "source": [
        "# model build\n",
        "input_ = Input(shape=(MAX_SEQ_LENGTH,))\n",
        "x = embedding_layer(input_)\n",
        "x = Bidirectional(LSTM(15, return_sequences=True))(x)\n",
        "x = GlobalMaxPool1D()(x)\n",
        "output = Dense(len(possible_labels), activation=\"sigmoid\")(x)\n",
        "model = Model(input_, output)\n",
        "model.compile(\n",
        "    loss = \"binary_crossentropy\",\n",
        "    optimizer = Adam(learning_rate=0.01),\n",
        "    metrics=['accuracy']\n",
        ")"
      ],
      "execution_count": 15,
      "outputs": []
    },
    {
      "cell_type": "code",
      "metadata": {
        "colab": {
          "base_uri": "https://localhost:8080/"
        },
        "id": "QnrUjV_hy4eG",
        "outputId": "800f3b88-9a48-4b7c-c4ad-eeb892515d84"
      },
      "source": [
        "# Training model\n",
        "r = model.fit(\n",
        "    data,\n",
        "    targets,\n",
        "    batch_size = BATCH_SIZE,\n",
        "    epochs= EPOCHS,\n",
        "    validation_split = VALIDATION_SPLIT\n",
        ")"
      ],
      "execution_count": 16,
      "outputs": [
        {
          "output_type": "stream",
          "text": [
            "Epoch 1/10\n",
            "998/998 [==============================] - 115s 93ms/step - loss: 0.1120 - accuracy: 0.9521 - val_loss: 0.0543 - val_accuracy: 0.9927\n",
            "Epoch 2/10\n",
            "998/998 [==============================] - 92s 92ms/step - loss: 0.0518 - accuracy: 0.9893 - val_loss: 0.0518 - val_accuracy: 0.9920\n",
            "Epoch 3/10\n",
            "998/998 [==============================] - 95s 95ms/step - loss: 0.0486 - accuracy: 0.9869 - val_loss: 0.0506 - val_accuracy: 0.9916\n",
            "Epoch 4/10\n",
            "998/998 [==============================] - 93s 93ms/step - loss: 0.0467 - accuracy: 0.9779 - val_loss: 0.0504 - val_accuracy: 0.9867\n",
            "Epoch 5/10\n",
            "998/998 [==============================] - 96s 96ms/step - loss: 0.0462 - accuracy: 0.9738 - val_loss: 0.0500 - val_accuracy: 0.9856\n",
            "Epoch 6/10\n",
            "998/998 [==============================] - 94s 94ms/step - loss: 0.0453 - accuracy: 0.9828 - val_loss: 0.0512 - val_accuracy: 0.9820\n",
            "Epoch 7/10\n",
            "998/998 [==============================] - 93s 93ms/step - loss: 0.0442 - accuracy: 0.9714 - val_loss: 0.0495 - val_accuracy: 0.9757\n",
            "Epoch 8/10\n",
            "998/998 [==============================] - 93s 93ms/step - loss: 0.0442 - accuracy: 0.9673 - val_loss: 0.0498 - val_accuracy: 0.8748\n",
            "Epoch 9/10\n",
            "998/998 [==============================] - 94s 94ms/step - loss: 0.0437 - accuracy: 0.9459 - val_loss: 0.0498 - val_accuracy: 0.9497\n",
            "Epoch 10/10\n",
            "998/998 [==============================] - 92s 92ms/step - loss: 0.0424 - accuracy: 0.9615 - val_loss: 0.0501 - val_accuracy: 0.9738\n"
          ],
          "name": "stdout"
        }
      ]
    },
    {
      "cell_type": "code",
      "metadata": {
        "colab": {
          "base_uri": "https://localhost:8080/",
          "height": 265
        },
        "id": "IS6TDOucy6NO",
        "outputId": "a69bd4c3-0a74-4a28-db9f-48778a6b9d97"
      },
      "source": [
        "plt.plot(r.history['loss'], label='loss')\n",
        "plt.plot(r.history['val_loss'], label='val_loss')\n",
        "plt.legend()\n",
        "plt.show();"
      ],
      "execution_count": 17,
      "outputs": [
        {
          "output_type": "display_data",
          "data": {
            "image/png": "[encoded data removed]",
            "text/plain": [
              "<Figure size 432x288 with 1 Axes>"
            ]
          },
          "metadata": {
            "tags": [],
            "needs_background": "light"
          }
        }
      ]
    },
    {
      "cell_type": "code",
      "metadata": {
        "colab": {
          "base_uri": "https://localhost:8080/",
          "height": 265
        },
        "id": "1Xf6P3Nmy8OW",
        "outputId": "c02adec3-6100-422c-fcc5-cd9ad49efe6e"
      },
      "source": [
        "plt.plot(r.history['accuracy'], label='accuracy')\n",
        "plt.plot(r.history['val_accuracy'], label='val_acc')\n",
        "plt.legend()\n",
        "plt.show();"
      ],
      "execution_count": 18,
      "outputs": [
        {
          "output_type": "display_data",
          "data": {
            "image/png": "[encoded data removed]",
            "text/plain": [
              "<Figure size 432x288 with 1 Axes>"
            ]
          },
          "metadata": {
            "tags": [],
            "needs_background": "light"
          }
        }
      ]
    },
    {
      "cell_type": "code",
      "metadata": {
        "colab": {
          "base_uri": "https://localhost:8080/"
        },
        "id": "l2uszXZoy9s1",
        "outputId": "944c2a7c-3492-4e7c-bded-354d8c707c05"
      },
      "source": [
        "p = model.predict(data)\n",
        "aucs = []\n",
        "del i\n",
        "for i in range(5):\n",
        "  auc = roc_auc_score(targets[:,i], p[:,i])\n",
        "  aucs.append(auc)\n",
        "print(np.mean(aucs)) # with cnn=0.9718710715825385, LSTM=0.977325749567729 "
      ],
      "execution_count": 19,
      "outputs": [
        {
          "output_type": "stream",
          "text": [
            "0.9857074442591376\n"
          ],
          "name": "stdout"
        }
      ]
    },
    {
      "cell_type": "code",
      "metadata": {
        "colab": {
          "base_uri": "https://localhost:8080/"
        },
        "id": "ijFt9lo4zFIx",
        "outputId": "688741a2-f3a0-4b45-a391-4c61fcb12076"
      },
      "source": [
        "def single_predict(sentence):\n",
        "  single_sequences = tokenizer.texts_to_sequences(sentence)\n",
        "  pad_input=[[j for i in single_sequences for j in i]]\n",
        "  single_data = pad_sequences(pad_input, maxlen=MAX_SEQ_LENGTH)\n",
        "  \n",
        "  p = model.predict(single_data)\n",
        "  p = list(p)\n",
        "  \n",
        "  # print(ans)\n",
        "  print(p)\n",
        "  for i in p[0]:\n",
        "    print(max([i]))\n",
        "  print('->',max(p[0]))\n",
        "single_predict(\"very good\")"
      ],
      "execution_count": 20,
      "outputs": [
        {
          "output_type": "stream",
          "text": [
            "[array([0.04469401, 0.00433365, 0.02673891, 0.00022703, 0.08606294,\n",
            "       0.00586203], dtype=float32)]\n",
            "0.044694006\n",
            "0.004333645\n",
            "0.026738912\n",
            "0.00022703409\n",
            "0.08606294\n",
            "0.0058620274\n",
            "-> 0.08606294\n"
          ],
          "name": "stdout"
        }
      ]
    },
    {
      "cell_type": "code",
      "metadata": {
        "colab": {
          "base_uri": "https://localhost:8080/"
        },
        "id": "J6a2j_z5zHMG",
        "outputId": "f6741bfd-ad68-47e4-c545-3c9fca5a42a0"
      },
      "source": [
        "def single_predict(sentence):\n",
        "    single_sequences = tokenizer.texts_to_sequences(sentence)\n",
        "    single_data = pad_sequences(single_sequences, maxlen=MAX_SEQ_LENGTH)\n",
        "    p = model.predict(single_data)[-1]\n",
        "    lab = [\"toxic\", \"severe_toxic\", \"obscene\", \"threat\", \"insult\", \"identity_hate\"]\n",
        "    p = [i for i in p]\n",
        "    ans = lab[p.index(max(p))] if max(p) > 0.57 else \"Neutral\"\n",
        "    print(ans)\n",
        "    print(p)\n",
        "single_predict(\"very nice\")"
      ],
      "execution_count": 28,
      "outputs": [
        {
          "output_type": "stream",
          "text": [
            "Neutral\n",
            "[0.0014519095, 0.00017243624, 0.00091063976, 7.2614086e-05, 0.0008955896, 0.0005760193]\n"
          ],
          "name": "stdout"
        }
      ]
    },
    {
      "cell_type": "code",
      "metadata": {
        "colab": {
          "base_uri": "https://localhost:8080/"
        },
        "id": "-rQHv0uUzJBe",
        "outputId": "18cc479e-98cc-403d-a9cc-8789637337aa"
      },
      "source": [
        "single_sequences = tokenizer.texts_to_sequences(\"worst behaviour\")\n",
        "single_data = pad_sequences(single_sequences, maxlen=MAX_SEQ_LENGTH)\n",
        "p = model.predict(single_data)\n",
        "print(p)"
      ],
      "execution_count": 22,
      "outputs": [
        {
          "output_type": "stream",
          "text": [
            "[[2.91664004e-02 2.36171484e-03 2.37827599e-02 3.88324261e-04\n",
            "  1.20704472e-02 4.64385748e-03]\n",
            " [6.02588058e-02 4.64066863e-03 2.50932574e-02 1.49491429e-03\n",
            "  2.34287083e-02 6.87882304e-03]\n",
            " [1.11864924e-01 6.75457716e-03 5.45632839e-02 2.11766362e-03\n",
            "  5.53884208e-02 1.91912055e-02]\n",
            " [4.23389971e-02 3.04466486e-03 1.96493268e-02 8.40842724e-04\n",
            "  1.67582035e-02 6.72936440e-03]\n",
            " [5.57348430e-02 4.53335047e-03 1.90937221e-02 9.95457172e-04\n",
            "  2.14929283e-02 1.04199052e-02]\n",
            " [5.45618236e-02 3.60459089e-03 3.25987339e-02 9.73314047e-04\n",
            "  2.38625407e-02 1.56599581e-02]\n",
            " [6.46609962e-02 5.49393892e-03 4.08064425e-02 1.19578838e-03\n",
            "  2.71893442e-02 8.41262937e-03]\n",
            " [1.45190954e-03 1.72436237e-04 9.10639763e-04 7.26140861e-05\n",
            "  8.95589590e-04 5.75989485e-04]\n",
            " [6.54369295e-02 5.69647551e-03 4.52385545e-02 1.01163983e-03\n",
            "  2.65932977e-02 8.18338990e-03]\n",
            " [2.65861213e-01 9.33825970e-03 9.01055336e-02 2.06044316e-03\n",
            "  1.27991259e-01 2.04034448e-02]\n",
            " [1.35014057e-02 1.38363242e-03 7.43892789e-03 5.84304333e-04\n",
            "  8.06045532e-03 5.50979376e-03]\n",
            " [1.84490979e-02 1.40166283e-03 6.76169991e-03 3.11762094e-04\n",
            "  6.13859296e-03 1.15418434e-03]\n",
            " [6.02588058e-02 4.64066863e-03 2.50932574e-02 1.49491429e-03\n",
            "  2.34287083e-02 6.87879324e-03]\n",
            " [4.17330831e-01 4.43564057e-02 2.86445558e-01 6.20037317e-03\n",
            "  2.85217404e-01 3.25980484e-02]\n",
            " [1.11864984e-01 6.75451756e-03 5.45634031e-02 2.11754441e-03\n",
            "  5.53884208e-02 1.91911757e-02]]\n"
          ],
          "name": "stdout"
        }
      ]
    },
    {
      "cell_type": "code",
      "metadata": {
        "colab": {
          "base_uri": "https://localhost:8080/"
        },
        "id": "-NARkqX5zKj2",
        "outputId": "11678c6e-afa3-4099-e9ef-7a762cfc2a3a"
      },
      "source": [
        "single_sequences = tokenizer.texts_to_sequences(\"good boy\")\n",
        "single_data = pad_sequences(single_sequences, maxlen=MAX_SEQ_LENGTH)\n",
        "p = model.predict(single_data)\n",
        "print(p)"
      ],
      "execution_count": 23,
      "outputs": [
        {
          "output_type": "stream",
          "text": [
            "[[0.02580369 0.00324041 0.02526829 0.00026762 0.01591522 0.00268373]\n",
            " [0.06025881 0.00464067 0.02509326 0.00149491 0.02342871 0.00687882]\n",
            " [0.06025881 0.00464067 0.02509326 0.00149491 0.02342871 0.00687882]\n",
            " [0.06737256 0.00493151 0.05560049 0.0007568  0.03084564 0.01019812]\n",
            " [0.05456182 0.00360459 0.03259873 0.00097331 0.02386254 0.01565996]\n",
            " [0.064661   0.00549394 0.04080644 0.00119579 0.02718934 0.00841263]\n",
            " [0.06025887 0.00464067 0.0250932  0.00149494 0.02342871 0.00687882]\n",
            " [0.0117133  0.00101447 0.00786072 0.00026646 0.00507846 0.00248453]]\n"
          ],
          "name": "stdout"
        }
      ]
    }
  ]
}