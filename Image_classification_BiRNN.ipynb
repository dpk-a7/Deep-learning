{
  "nbformat": 4,
  "nbformat_minor": 0,
  "metadata": {
    "colab": {
      "name": "Image_classification_BiRNN.ipynb",
      "provenance": [],
      "collapsed_sections": [],
      "authorship_tag": "ABX9TyObEdqQMQj8uN7QkIx2RS34",
      "include_colab_link": true
    },
    "kernelspec": {
      "name": "python3",
      "display_name": "Python 3"
    },
    "language_info": {
      "name": "python"
    }
  },
  "cells": [
    {
      "cell_type": "markdown",
      "metadata": {
        "id": "view-in-github",
        "colab_type": "text"
      },
      "source": [
        "<a href=\"https://colab.research.google.com/github/dpk-a7/Deep-learning/blob/main/Image_classification_BiRNN.ipynb\" target=\"_parent\"><img src=\"https://colab.research.google.com/assets/colab-badge.svg\" alt=\"Open In Colab\"/></a>"
      ]
    },
    {
      "cell_type": "code",
      "metadata": {
        "colab": {
          "base_uri": "https://localhost:8080/"
        },
        "id": "dc5v_9Qf547c",
        "outputId": "a3e89dba-0976-44b8-af5d-512cf3e7c2af"
      },
      "source": [
        "!mkdir -p ~/.kaggle\n",
        "!cp \"kaggle.json\" ~/.kaggle/\n",
        "!cat ~/.kaggle/kaggle.json \n",
        "!chmod 600 ~/.kaggle/kaggle.json# For competition datasets\n",
        "!kaggle competitions download -c digit-recognizer"
      ],
      "execution_count": 3,
      "outputs": [
        {
          "output_type": "stream",
          "text": [
            "{\"username\":\"deepakavudiappan\",\"key\":\"f85a7e006b065d4a782c1ab2b3ff214e\"}chmod: cannot access '/root/.kaggle/kaggle.json#': No such file or directory\n",
            "chmod: cannot access 'For': No such file or directory\n",
            "chmod: cannot access 'competition': No such file or directory\n",
            "chmod: cannot access 'datasets': No such file or directory\n",
            "Warning: Your Kaggle API key is readable by other users on this system! To fix this, you can run 'chmod 600 /root/.kaggle/kaggle.json'\n",
            "Warning: Looks like you're using an outdated API Version, please consider updating (server 1.5.12 / client 1.5.4)\n",
            "Downloading test.csv.zip to /content\n",
            " 82% 5.00M/6.09M [00:00<00:00, 42.5MB/s]\n",
            "100% 6.09M/6.09M [00:00<00:00, 39.0MB/s]\n",
            "Downloading sample_submission.csv to /content\n",
            "  0% 0.00/235k [00:00<?, ?B/s]\n",
            "100% 235k/235k [00:00<00:00, 77.0MB/s]\n",
            "Downloading train.csv.zip to /content\n",
            " 55% 5.00M/9.16M [00:00<00:00, 40.5MB/s]\n",
            "100% 9.16M/9.16M [00:00<00:00, 58.6MB/s]\n"
          ],
          "name": "stdout"
        }
      ]
    },
    {
      "cell_type": "code",
      "metadata": {
        "colab": {
          "base_uri": "https://localhost:8080/"
        },
        "id": "xz1joVlw716l",
        "outputId": "408e14f5-9458-43a0-b953-becbed6e703e"
      },
      "source": [
        "!unzip test.csv.zip \n",
        "!unzip train.csv.zip"
      ],
      "execution_count": 6,
      "outputs": [
        {
          "output_type": "stream",
          "text": [
            "Archive:  test.csv.zip\n",
            "  inflating: test.csv                \n",
            "Archive:  train.csv.zip\n",
            "  inflating: train.csv               \n"
          ],
          "name": "stdout"
        }
      ]
    },
    {
      "cell_type": "code",
      "metadata": {
        "id": "VmDrBdF58TNN"
      },
      "source": [
        "!rm test.csv.zip \n",
        "!rm train.csv.zip"
      ],
      "execution_count": 8,
      "outputs": []
    },
    {
      "cell_type": "code",
      "metadata": {
        "id": "gHM0hV2h8ih4"
      },
      "source": [
        "from __future__ import print_function, division\n",
        "from builtins import range, input\n",
        "import os\n",
        "from keras.models import Model\n",
        "from keras.layers import Input, LSTM, GRU, Bidirectional, GlobalMaxPooling1D, Lambda, Concatenate, Dense\n",
        "import keras.backend as K\n",
        "import pandas as pd\n",
        "import numpy as np\n",
        "import matplotlib.pyplot as plt"
      ],
      "execution_count": 22,
      "outputs": []
    },
    {
      "cell_type": "code",
      "metadata": {
        "id": "pk0ZCkcF8_db"
      },
      "source": [
        "def get_mnist(limit= None):\n",
        "  print(\"Reading in and trasforming data...\")\n",
        "  df = pd.read_csv(\"train.csv\")\n",
        "  data = df.values\n",
        "  np.random.shuffle(data)\n",
        "  X = data[:, 1:].reshape(-1,28,28)/255.0 #data is from 0  to 255\n",
        "  Y = data[:, 0]\n",
        "  if limit is not None:\n",
        "    X, Y = X[:limit],Y[:limit]\n",
        "  return X,Y"
      ],
      "execution_count": 18,
      "outputs": []
    },
    {
      "cell_type": "code",
      "metadata": {
        "colab": {
          "base_uri": "https://localhost:8080/"
        },
        "id": "NPRATzoy-f8S",
        "outputId": "0f374876-da36-4b65-c604-01b9aeb45c7c"
      },
      "source": [
        "X,Y = get_mnist()"
      ],
      "execution_count": 19,
      "outputs": [
        {
          "output_type": "stream",
          "text": [
            "Reading in and trasforming data...\n"
          ],
          "name": "stdout"
        }
      ]
    },
    {
      "cell_type": "code",
      "metadata": {
        "id": "OdmsK9kr-idu"
      },
      "source": [
        "D = 28 #h x w\n",
        "M = 15"
      ],
      "execution_count": 20,
      "outputs": []
    },
    {
      "cell_type": "code",
      "metadata": {
        "id": "yri3I8aa_BjC"
      },
      "source": [
        "# input is an image of size 28x28\n",
        "input_ = Input(shape=(D,D))\n",
        "rnn1 = Bidirectional(LSTM(M, return_sequences=True))\n",
        "x1 = rnn1(input_) # output is N x D x 2M\n",
        "x1 = GlobalMaxPooling1D()(x1) # output is N x 2M\n",
        "# left-right\n",
        "rnn2 = Bidirectional(LSTM(M, return_sequences=True))\n",
        "\n",
        "# custom layer\n",
        "permutor = Lambda(lambda t: K.permute_dimensions(t, pattern=(0,2,1)))\n",
        "\n",
        "x2 = permutor(input_)\n",
        "x2 = rnn2(x2) # output is N x D x 2M\n",
        "x2 = GlobalMaxPooling1D()(x2) # output is N x 2M\n",
        "\n",
        "# put them together\n",
        "concatenator = Concatenate(axis= 1)\n",
        "x = concatenator([x1,x2]) #output is N x 4M\n",
        "\n",
        "# final dense layer\n",
        "output = Dense(10, activation='softmax')(x)\n",
        "model = Model(inputs = input_, outputs = output)"
      ],
      "execution_count": 23,
      "outputs": []
    },
    {
      "cell_type": "code",
      "metadata": {
        "colab": {
          "base_uri": "https://localhost:8080/"
        },
        "id": "XARtKYNpBOfo",
        "outputId": "b8b02a17-57c6-4434-a657-aec7127af4c9"
      },
      "source": [
        "# tests\n",
        "print(\"o.shape:\",model.predict(X).shape)"
      ],
      "execution_count": 24,
      "outputs": [
        {
          "output_type": "stream",
          "text": [
            "o.shape: (42000, 10)\n"
          ],
          "name": "stdout"
        }
      ]
    },
    {
      "cell_type": "code",
      "metadata": {
        "id": "Ymznvd_ZBgKi"
      },
      "source": [
        "# compile\n",
        "model.compile(\n",
        "    loss = 'sparse_categorical_crossentropy', #categorical_crossentropy requires onehot encoded targets which takes-up space, so sparse_categorical_crossentropy don't take onehot encoded targets\n",
        "    optimizer = 'adam',\n",
        "    metrics = ['accuracy']\n",
        ")"
      ],
      "execution_count": 25,
      "outputs": []
    },
    {
      "cell_type": "code",
      "metadata": {
        "colab": {
          "base_uri": "https://localhost:8080/"
        },
        "id": "CJthnaf1B2N1",
        "outputId": "a12c9d6c-7496-40de-cbef-461c17f688dd"
      },
      "source": [
        "# train\n",
        "print(\"Training Model\")\n",
        "r = model.fit(X,Y, batch_size=32, epochs=10,validation_split=0.3)"
      ],
      "execution_count": 27,
      "outputs": [
        {
          "output_type": "stream",
          "text": [
            "Training Model\n",
            "Epoch 1/10\n",
            "919/919 [==============================] - 43s 33ms/step - loss: 1.3076 - accuracy: 0.6394 - val_loss: 0.3045 - val_accuracy: 0.9185\n",
            "Epoch 2/10\n",
            "919/919 [==============================] - 28s 30ms/step - loss: 0.2568 - accuracy: 0.9313 - val_loss: 0.1927 - val_accuracy: 0.9468\n",
            "Epoch 3/10\n",
            "919/919 [==============================] - 27s 30ms/step - loss: 0.1690 - accuracy: 0.9524 - val_loss: 0.1542 - val_accuracy: 0.9554\n",
            "Epoch 4/10\n",
            "919/919 [==============================] - 27s 30ms/step - loss: 0.1359 - accuracy: 0.9608 - val_loss: 0.1259 - val_accuracy: 0.9638\n",
            "Epoch 5/10\n",
            "919/919 [==============================] - 28s 30ms/step - loss: 0.1153 - accuracy: 0.9663 - val_loss: 0.1410 - val_accuracy: 0.9569\n",
            "Epoch 6/10\n",
            "919/919 [==============================] - 27s 30ms/step - loss: 0.1037 - accuracy: 0.9686 - val_loss: 0.1169 - val_accuracy: 0.9648\n",
            "Epoch 7/10\n",
            "919/919 [==============================] - 27s 30ms/step - loss: 0.0915 - accuracy: 0.9733 - val_loss: 0.1122 - val_accuracy: 0.9657\n",
            "Epoch 8/10\n",
            "919/919 [==============================] - 28s 30ms/step - loss: 0.0800 - accuracy: 0.9772 - val_loss: 0.0959 - val_accuracy: 0.9709\n",
            "Epoch 9/10\n",
            "919/919 [==============================] - 27s 30ms/step - loss: 0.0713 - accuracy: 0.9790 - val_loss: 0.0905 - val_accuracy: 0.9725\n",
            "Epoch 10/10\n",
            "919/919 [==============================] - 28s 30ms/step - loss: 0.0628 - accuracy: 0.9819 - val_loss: 0.0925 - val_accuracy: 0.9709\n"
          ],
          "name": "stdout"
        }
      ]
    },
    {
      "cell_type": "code",
      "metadata": {
        "colab": {
          "base_uri": "https://localhost:8080/",
          "height": 269
        },
        "id": "igaMYvZ9CKwF",
        "outputId": "3783239b-3303-4f7c-b758-39baa4f227a7"
      },
      "source": [
        "plt.plot(r.history['loss'], label='loss')\n",
        "plt.plot(r.history['val_loss'], label='val_loss')\n",
        "plt.legend()\n",
        "plt.show();"
      ],
      "execution_count": 28,
      "outputs": [
        {
          "output_type": "display_data",
          "data": {
            "image/png": "[encoded data removed]",
            "text/plain": [
              "<Figure size 432x288 with 1 Axes>"
            ]
          },
          "metadata": {
            "tags": [],
            "needs_background": "light"
          }
        }
      ]
    },
    {
      "cell_type": "code",
      "metadata": {
        "colab": {
          "base_uri": "https://localhost:8080/",
          "height": 265
        },
        "id": "DchBLdqoCUJZ",
        "outputId": "bdfb41fd-031e-45ca-b158-77ea773a344f"
      },
      "source": [
        "plt.plot(r.history['accuracy'], label='accuracy')\n",
        "plt.plot(r.history['val_accuracy'], label='val_acc')\n",
        "plt.legend()\n",
        "plt.show();"
      ],
      "execution_count": 29,
      "outputs": [
        {
          "output_type": "display_data",
          "data": {
            "image/png": "[encoded data removed]",
            "text/plain": [
              "<Figure size 432x288 with 1 Axes>"
            ]
          },
          "metadata": {
            "tags": [],
            "needs_background": "light"
          }
        }
      ]
    },
    {
      "cell_type": "code",
      "metadata": {
        "id": "5K4DaqwREWOo"
      },
      "source": [
        ""
      ],
      "execution_count": null,
      "outputs": []
    }
  ]
}