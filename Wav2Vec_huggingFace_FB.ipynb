{
  "nbformat": 4,
  "nbformat_minor": 0,
  "metadata": {
    "colab": {
      "name": "Wav2Vec_huggingFace_FB.ipynb",
      "provenance": [],
      "collapsed_sections": [],
      "authorship_tag": "ABX9TyPxXoJVTuVT00bFjFn3TX2p",
      "include_colab_link": true
    },
    "kernelspec": {
      "name": "python3",
      "display_name": "Python 3"
    },
    "language_info": {
      "name": "python"
    },
    "widgets": {
      "application/vnd.jupyter.widget-state+json": {
        "4d731305d28e4887b631d7aa115e77dc": {
          "model_module": "@jupyter-widgets/controls",
          "model_name": "HBoxModel",
          "state": {
            "_view_name": "HBoxView",
            "_dom_classes": [],
            "_model_name": "HBoxModel",
            "_view_module": "@jupyter-widgets/controls",
            "_model_module_version": "1.5.0",
            "_view_count": null,
            "_view_module_version": "1.5.0",
            "box_style": "",
            "layout": "IPY_MODEL_c7ea67c0b57242ac9e07e1420483de13",
            "_model_module": "@jupyter-widgets/controls",
            "children": [
              "IPY_MODEL_2575c73859394b31a62cc7a7776440e7",
              "IPY_MODEL_b191c7dc12fa4221ba69b298a34973e5"
            ]
          }
        },
        "c7ea67c0b57242ac9e07e1420483de13": {
          "model_module": "@jupyter-widgets/base",
          "model_name": "LayoutModel",
          "state": {
            "_view_name": "LayoutView",
            "grid_template_rows": null,
            "right": null,
            "justify_content": null,
            "_view_module": "@jupyter-widgets/base",
            "overflow": null,
            "_model_module_version": "1.2.0",
            "_view_count": null,
            "flex_flow": null,
            "width": null,
            "min_width": null,
            "border": null,
            "align_items": null,
            "bottom": null,
            "_model_module": "@jupyter-widgets/base",
            "top": null,
            "grid_column": null,
            "overflow_y": null,
            "overflow_x": null,
            "grid_auto_flow": null,
            "grid_area": null,
            "grid_template_columns": null,
            "flex": null,
            "_model_name": "LayoutModel",
            "justify_items": null,
            "grid_row": null,
            "max_height": null,
            "align_content": null,
            "visibility": null,
            "align_self": null,
            "height": null,
            "min_height": null,
            "padding": null,
            "grid_auto_rows": null,
            "grid_gap": null,
            "max_width": null,
            "order": null,
            "_view_module_version": "1.2.0",
            "grid_template_areas": null,
            "object_position": null,
            "object_fit": null,
            "grid_auto_columns": null,
            "margin": null,
            "display": null,
            "left": null
          }
        },
        "2575c73859394b31a62cc7a7776440e7": {
          "model_module": "@jupyter-widgets/controls",
          "model_name": "FloatProgressModel",
          "state": {
            "_view_name": "ProgressView",
            "style": "IPY_MODEL_cc825a90870f485ca6ad6f4f718f0639",
            "_dom_classes": [],
            "description": "Downloading: 100%",
            "_model_name": "FloatProgressModel",
            "bar_style": "success",
            "max": 291,
            "_view_module": "@jupyter-widgets/controls",
            "_model_module_version": "1.5.0",
            "value": 291,
            "_view_count": null,
            "_view_module_version": "1.5.0",
            "orientation": "horizontal",
            "min": 0,
            "description_tooltip": null,
            "_model_module": "@jupyter-widgets/controls",
            "layout": "IPY_MODEL_88a52478a23044bfa71b43344bb2a3e8"
          }
        },
        "b191c7dc12fa4221ba69b298a34973e5": {
          "model_module": "@jupyter-widgets/controls",
          "model_name": "HTMLModel",
          "state": {
            "_view_name": "HTMLView",
            "style": "IPY_MODEL_7533b605fa9f4f5397540b7d9723d2b3",
            "_dom_classes": [],
            "description": "",
            "_model_name": "HTMLModel",
            "placeholder": "​",
            "_view_module": "@jupyter-widgets/controls",
            "_model_module_version": "1.5.0",
            "value": " 291/291 [00:01&lt;00:00, 235B/s]",
            "_view_count": null,
            "_view_module_version": "1.5.0",
            "description_tooltip": null,
            "_model_module": "@jupyter-widgets/controls",
            "layout": "IPY_MODEL_9e4df8f9fd634acb86fc087763d8127a"
          }
        },
        "cc825a90870f485ca6ad6f4f718f0639": {
          "model_module": "@jupyter-widgets/controls",
          "model_name": "ProgressStyleModel",
          "state": {
            "_view_name": "StyleView",
            "_model_name": "ProgressStyleModel",
            "description_width": "initial",
            "_view_module": "@jupyter-widgets/base",
            "_model_module_version": "1.5.0",
            "_view_count": null,
            "_view_module_version": "1.2.0",
            "bar_color": null,
            "_model_module": "@jupyter-widgets/controls"
          }
        },
        "88a52478a23044bfa71b43344bb2a3e8": {
          "model_module": "@jupyter-widgets/base",
          "model_name": "LayoutModel",
          "state": {
            "_view_name": "LayoutView",
            "grid_template_rows": null,
            "right": null,
            "justify_content": null,
            "_view_module": "@jupyter-widgets/base",
            "overflow": null,
            "_model_module_version": "1.2.0",
            "_view_count": null,
            "flex_flow": null,
            "width": null,
            "min_width": null,
            "border": null,
            "align_items": null,
            "bottom": null,
            "_model_module": "@jupyter-widgets/base",
            "top": null,
            "grid_column": null,
            "overflow_y": null,
            "overflow_x": null,
            "grid_auto_flow": null,
            "grid_area": null,
            "grid_template_columns": null,
            "flex": null,
            "_model_name": "LayoutModel",
            "justify_items": null,
            "grid_row": null,
            "max_height": null,
            "align_content": null,
            "visibility": null,
            "align_self": null,
            "height": null,
            "min_height": null,
            "padding": null,
            "grid_auto_rows": null,
            "grid_gap": null,
            "max_width": null,
            "order": null,
            "_view_module_version": "1.2.0",
            "grid_template_areas": null,
            "object_position": null,
            "object_fit": null,
            "grid_auto_columns": null,
            "margin": null,
            "display": null,
            "left": null
          }
        },
        "7533b605fa9f4f5397540b7d9723d2b3": {
          "model_module": "@jupyter-widgets/controls",
          "model_name": "DescriptionStyleModel",
          "state": {
            "_view_name": "StyleView",
            "_model_name": "DescriptionStyleModel",
            "description_width": "",
            "_view_module": "@jupyter-widgets/base",
            "_model_module_version": "1.5.0",
            "_view_count": null,
            "_view_module_version": "1.2.0",
            "_model_module": "@jupyter-widgets/controls"
          }
        },
        "9e4df8f9fd634acb86fc087763d8127a": {
          "model_module": "@jupyter-widgets/base",
          "model_name": "LayoutModel",
          "state": {
            "_view_name": "LayoutView",
            "grid_template_rows": null,
            "right": null,
            "justify_content": null,
            "_view_module": "@jupyter-widgets/base",
            "overflow": null,
            "_model_module_version": "1.2.0",
            "_view_count": null,
            "flex_flow": null,
            "width": null,
            "min_width": null,
            "border": null,
            "align_items": null,
            "bottom": null,
            "_model_module": "@jupyter-widgets/base",
            "top": null,
            "grid_column": null,
            "overflow_y": null,
            "overflow_x": null,
            "grid_auto_flow": null,
            "grid_area": null,
            "grid_template_columns": null,
            "flex": null,
            "_model_name": "LayoutModel",
            "justify_items": null,
            "grid_row": null,
            "max_height": null,
            "align_content": null,
            "visibility": null,
            "align_self": null,
            "height": null,
            "min_height": null,
            "padding": null,
            "grid_auto_rows": null,
            "grid_gap": null,
            "max_width": null,
            "order": null,
            "_view_module_version": "1.2.0",
            "grid_template_areas": null,
            "object_position": null,
            "object_fit": null,
            "grid_auto_columns": null,
            "margin": null,
            "display": null,
            "left": null
          }
        },
        "8f90a3ae7d624c24bd14bd2a510bd179": {
          "model_module": "@jupyter-widgets/controls",
          "model_name": "HBoxModel",
          "state": {
            "_view_name": "HBoxView",
            "_dom_classes": [],
            "_model_name": "HBoxModel",
            "_view_module": "@jupyter-widgets/controls",
            "_model_module_version": "1.5.0",
            "_view_count": null,
            "_view_module_version": "1.5.0",
            "box_style": "",
            "layout": "IPY_MODEL_e6c62264cf904c37a2509c11b9e4fdb2",
            "_model_module": "@jupyter-widgets/controls",
            "children": [
              "IPY_MODEL_2b90990eb0c8452c91133e73a6d22576",
              "IPY_MODEL_b8997615f4044cffb359f1c5b8923baf"
            ]
          }
        },
        "e6c62264cf904c37a2509c11b9e4fdb2": {
          "model_module": "@jupyter-widgets/base",
          "model_name": "LayoutModel",
          "state": {
            "_view_name": "LayoutView",
            "grid_template_rows": null,
            "right": null,
            "justify_content": null,
            "_view_module": "@jupyter-widgets/base",
            "overflow": null,
            "_model_module_version": "1.2.0",
            "_view_count": null,
            "flex_flow": null,
            "width": null,
            "min_width": null,
            "border": null,
            "align_items": null,
            "bottom": null,
            "_model_module": "@jupyter-widgets/base",
            "top": null,
            "grid_column": null,
            "overflow_y": null,
            "overflow_x": null,
            "grid_auto_flow": null,
            "grid_area": null,
            "grid_template_columns": null,
            "flex": null,
            "_model_name": "LayoutModel",
            "justify_items": null,
            "grid_row": null,
            "max_height": null,
            "align_content": null,
            "visibility": null,
            "align_self": null,
            "height": null,
            "min_height": null,
            "padding": null,
            "grid_auto_rows": null,
            "grid_gap": null,
            "max_width": null,
            "order": null,
            "_view_module_version": "1.2.0",
            "grid_template_areas": null,
            "object_position": null,
            "object_fit": null,
            "grid_auto_columns": null,
            "margin": null,
            "display": null,
            "left": null
          }
        },
        "2b90990eb0c8452c91133e73a6d22576": {
          "model_module": "@jupyter-widgets/controls",
          "model_name": "FloatProgressModel",
          "state": {
            "_view_name": "ProgressView",
            "style": "IPY_MODEL_a61602260f1e4c9ea41ae97ee01ec9a6",
            "_dom_classes": [],
            "description": "Downloading: 100%",
            "_model_name": "FloatProgressModel",
            "bar_style": "success",
            "max": 163,
            "_view_module": "@jupyter-widgets/controls",
            "_model_module_version": "1.5.0",
            "value": 163,
            "_view_count": null,
            "_view_module_version": "1.5.0",
            "orientation": "horizontal",
            "min": 0,
            "description_tooltip": null,
            "_model_module": "@jupyter-widgets/controls",
            "layout": "IPY_MODEL_b9d2d052c4064fde92f7d794e8236192"
          }
        },
        "b8997615f4044cffb359f1c5b8923baf": {
          "model_module": "@jupyter-widgets/controls",
          "model_name": "HTMLModel",
          "state": {
            "_view_name": "HTMLView",
            "style": "IPY_MODEL_8251e5a532f747e4a64bebf2304c5a4d",
            "_dom_classes": [],
            "description": "",
            "_model_name": "HTMLModel",
            "placeholder": "​",
            "_view_module": "@jupyter-widgets/controls",
            "_model_module_version": "1.5.0",
            "value": " 163/163 [00:00&lt;00:00, 575B/s]",
            "_view_count": null,
            "_view_module_version": "1.5.0",
            "description_tooltip": null,
            "_model_module": "@jupyter-widgets/controls",
            "layout": "IPY_MODEL_6e95c976cf284042b385bdaf60fc56fe"
          }
        },
        "a61602260f1e4c9ea41ae97ee01ec9a6": {
          "model_module": "@jupyter-widgets/controls",
          "model_name": "ProgressStyleModel",
          "state": {
            "_view_name": "StyleView",
            "_model_name": "ProgressStyleModel",
            "description_width": "initial",
            "_view_module": "@jupyter-widgets/base",
            "_model_module_version": "1.5.0",
            "_view_count": null,
            "_view_module_version": "1.2.0",
            "bar_color": null,
            "_model_module": "@jupyter-widgets/controls"
          }
        },
        "b9d2d052c4064fde92f7d794e8236192": {
          "model_module": "@jupyter-widgets/base",
          "model_name": "LayoutModel",
          "state": {
            "_view_name": "LayoutView",
            "grid_template_rows": null,
            "right": null,
            "justify_content": null,
            "_view_module": "@jupyter-widgets/base",
            "overflow": null,
            "_model_module_version": "1.2.0",
            "_view_count": null,
            "flex_flow": null,
            "width": null,
            "min_width": null,
            "border": null,
            "align_items": null,
            "bottom": null,
            "_model_module": "@jupyter-widgets/base",
            "top": null,
            "grid_column": null,
            "overflow_y": null,
            "overflow_x": null,
            "grid_auto_flow": null,
            "grid_area": null,
            "grid_template_columns": null,
            "flex": null,
            "_model_name": "LayoutModel",
            "justify_items": null,
            "grid_row": null,
            "max_height": null,
            "align_content": null,
            "visibility": null,
            "align_self": null,
            "height": null,
            "min_height": null,
            "padding": null,
            "grid_auto_rows": null,
            "grid_gap": null,
            "max_width": null,
            "order": null,
            "_view_module_version": "1.2.0",
            "grid_template_areas": null,
            "object_position": null,
            "object_fit": null,
            "grid_auto_columns": null,
            "margin": null,
            "display": null,
            "left": null
          }
        },
        "8251e5a532f747e4a64bebf2304c5a4d": {
          "model_module": "@jupyter-widgets/controls",
          "model_name": "DescriptionStyleModel",
          "state": {
            "_view_name": "StyleView",
            "_model_name": "DescriptionStyleModel",
            "description_width": "",
            "_view_module": "@jupyter-widgets/base",
            "_model_module_version": "1.5.0",
            "_view_count": null,
            "_view_module_version": "1.2.0",
            "_model_module": "@jupyter-widgets/controls"
          }
        },
        "6e95c976cf284042b385bdaf60fc56fe": {
          "model_module": "@jupyter-widgets/base",
          "model_name": "LayoutModel",
          "state": {
            "_view_name": "LayoutView",
            "grid_template_rows": null,
            "right": null,
            "justify_content": null,
            "_view_module": "@jupyter-widgets/base",
            "overflow": null,
            "_model_module_version": "1.2.0",
            "_view_count": null,
            "flex_flow": null,
            "width": null,
            "min_width": null,
            "border": null,
            "align_items": null,
            "bottom": null,
            "_model_module": "@jupyter-widgets/base",
            "top": null,
            "grid_column": null,
            "overflow_y": null,
            "overflow_x": null,
            "grid_auto_flow": null,
            "grid_area": null,
            "grid_template_columns": null,
            "flex": null,
            "_model_name": "LayoutModel",
            "justify_items": null,
            "grid_row": null,
            "max_height": null,
            "align_content": null,
            "visibility": null,
            "align_self": null,
            "height": null,
            "min_height": null,
            "padding": null,
            "grid_auto_rows": null,
            "grid_gap": null,
            "max_width": null,
            "order": null,
            "_view_module_version": "1.2.0",
            "grid_template_areas": null,
            "object_position": null,
            "object_fit": null,
            "grid_auto_columns": null,
            "margin": null,
            "display": null,
            "left": null
          }
        },
        "671f85f128644f76ad53e2af88ac6455": {
          "model_module": "@jupyter-widgets/controls",
          "model_name": "HBoxModel",
          "state": {
            "_view_name": "HBoxView",
            "_dom_classes": [],
            "_model_name": "HBoxModel",
            "_view_module": "@jupyter-widgets/controls",
            "_model_module_version": "1.5.0",
            "_view_count": null,
            "_view_module_version": "1.5.0",
            "box_style": "",
            "layout": "IPY_MODEL_4e58d10d2c4c4316bccd3bcd7d5ecd01",
            "_model_module": "@jupyter-widgets/controls",
            "children": [
              "IPY_MODEL_3ce4825a8acb4ad6b163d85f74acd9c5",
              "IPY_MODEL_e4a7ce7bf83c48f49d3e1b739e8b9509"
            ]
          }
        },
        "4e58d10d2c4c4316bccd3bcd7d5ecd01": {
          "model_module": "@jupyter-widgets/base",
          "model_name": "LayoutModel",
          "state": {
            "_view_name": "LayoutView",
            "grid_template_rows": null,
            "right": null,
            "justify_content": null,
            "_view_module": "@jupyter-widgets/base",
            "overflow": null,
            "_model_module_version": "1.2.0",
            "_view_count": null,
            "flex_flow": null,
            "width": null,
            "min_width": null,
            "border": null,
            "align_items": null,
            "bottom": null,
            "_model_module": "@jupyter-widgets/base",
            "top": null,
            "grid_column": null,
            "overflow_y": null,
            "overflow_x": null,
            "grid_auto_flow": null,
            "grid_area": null,
            "grid_template_columns": null,
            "flex": null,
            "_model_name": "LayoutModel",
            "justify_items": null,
            "grid_row": null,
            "max_height": null,
            "align_content": null,
            "visibility": null,
            "align_self": null,
            "height": null,
            "min_height": null,
            "padding": null,
            "grid_auto_rows": null,
            "grid_gap": null,
            "max_width": null,
            "order": null,
            "_view_module_version": "1.2.0",
            "grid_template_areas": null,
            "object_position": null,
            "object_fit": null,
            "grid_auto_columns": null,
            "margin": null,
            "display": null,
            "left": null
          }
        },
        "3ce4825a8acb4ad6b163d85f74acd9c5": {
          "model_module": "@jupyter-widgets/controls",
          "model_name": "FloatProgressModel",
          "state": {
            "_view_name": "ProgressView",
            "style": "IPY_MODEL_f7346694643c4fe7b488ce0a7bfafc41",
            "_dom_classes": [],
            "description": "Downloading: 100%",
            "_model_name": "FloatProgressModel",
            "bar_style": "success",
            "max": 85,
            "_view_module": "@jupyter-widgets/controls",
            "_model_module_version": "1.5.0",
            "value": 85,
            "_view_count": null,
            "_view_module_version": "1.5.0",
            "orientation": "horizontal",
            "min": 0,
            "description_tooltip": null,
            "_model_module": "@jupyter-widgets/controls",
            "layout": "IPY_MODEL_01a8c4356b254dcf8e68b2876b2d964b"
          }
        },
        "e4a7ce7bf83c48f49d3e1b739e8b9509": {
          "model_module": "@jupyter-widgets/controls",
          "model_name": "HTMLModel",
          "state": {
            "_view_name": "HTMLView",
            "style": "IPY_MODEL_7ced8bbaff6e4171ab4c8a4d4e513e10",
            "_dom_classes": [],
            "description": "",
            "_model_name": "HTMLModel",
            "placeholder": "​",
            "_view_module": "@jupyter-widgets/controls",
            "_model_module_version": "1.5.0",
            "value": " 85.0/85.0 [00:00&lt;00:00, 128B/s]",
            "_view_count": null,
            "_view_module_version": "1.5.0",
            "description_tooltip": null,
            "_model_module": "@jupyter-widgets/controls",
            "layout": "IPY_MODEL_2c819eefdd1b4b5591320c5abb9ed521"
          }
        },
        "f7346694643c4fe7b488ce0a7bfafc41": {
          "model_module": "@jupyter-widgets/controls",
          "model_name": "ProgressStyleModel",
          "state": {
            "_view_name": "StyleView",
            "_model_name": "ProgressStyleModel",
            "description_width": "initial",
            "_view_module": "@jupyter-widgets/base",
            "_model_module_version": "1.5.0",
            "_view_count": null,
            "_view_module_version": "1.2.0",
            "bar_color": null,
            "_model_module": "@jupyter-widgets/controls"
          }
        },
        "01a8c4356b254dcf8e68b2876b2d964b": {
          "model_module": "@jupyter-widgets/base",
          "model_name": "LayoutModel",
          "state": {
            "_view_name": "LayoutView",
            "grid_template_rows": null,
            "right": null,
            "justify_content": null,
            "_view_module": "@jupyter-widgets/base",
            "overflow": null,
            "_model_module_version": "1.2.0",
            "_view_count": null,
            "flex_flow": null,
            "width": null,
            "min_width": null,
            "border": null,
            "align_items": null,
            "bottom": null,
            "_model_module": "@jupyter-widgets/base",
            "top": null,
            "grid_column": null,
            "overflow_y": null,
            "overflow_x": null,
            "grid_auto_flow": null,
            "grid_area": null,
            "grid_template_columns": null,
            "flex": null,
            "_model_name": "LayoutModel",
            "justify_items": null,
            "grid_row": null,
            "max_height": null,
            "align_content": null,
            "visibility": null,
            "align_self": null,
            "height": null,
            "min_height": null,
            "padding": null,
            "grid_auto_rows": null,
            "grid_gap": null,
            "max_width": null,
            "order": null,
            "_view_module_version": "1.2.0",
            "grid_template_areas": null,
            "object_position": null,
            "object_fit": null,
            "grid_auto_columns": null,
            "margin": null,
            "display": null,
            "left": null
          }
        },
        "7ced8bbaff6e4171ab4c8a4d4e513e10": {
          "model_module": "@jupyter-widgets/controls",
          "model_name": "DescriptionStyleModel",
          "state": {
            "_view_name": "StyleView",
            "_model_name": "DescriptionStyleModel",
            "description_width": "",
            "_view_module": "@jupyter-widgets/base",
            "_model_module_version": "1.5.0",
            "_view_count": null,
            "_view_module_version": "1.2.0",
            "_model_module": "@jupyter-widgets/controls"
          }
        },
        "2c819eefdd1b4b5591320c5abb9ed521": {
          "model_module": "@jupyter-widgets/base",
          "model_name": "LayoutModel",
          "state": {
            "_view_name": "LayoutView",
            "grid_template_rows": null,
            "right": null,
            "justify_content": null,
            "_view_module": "@jupyter-widgets/base",
            "overflow": null,
            "_model_module_version": "1.2.0",
            "_view_count": null,
            "flex_flow": null,
            "width": null,
            "min_width": null,
            "border": null,
            "align_items": null,
            "bottom": null,
            "_model_module": "@jupyter-widgets/base",
            "top": null,
            "grid_column": null,
            "overflow_y": null,
            "overflow_x": null,
            "grid_auto_flow": null,
            "grid_area": null,
            "grid_template_columns": null,
            "flex": null,
            "_model_name": "LayoutModel",
            "justify_items": null,
            "grid_row": null,
            "max_height": null,
            "align_content": null,
            "visibility": null,
            "align_self": null,
            "height": null,
            "min_height": null,
            "padding": null,
            "grid_auto_rows": null,
            "grid_gap": null,
            "max_width": null,
            "order": null,
            "_view_module_version": "1.2.0",
            "grid_template_areas": null,
            "object_position": null,
            "object_fit": null,
            "grid_auto_columns": null,
            "margin": null,
            "display": null,
            "left": null
          }
        },
        "febbd9c10dcd4be5be959de17c306d9d": {
          "model_module": "@jupyter-widgets/controls",
          "model_name": "HBoxModel",
          "state": {
            "_view_name": "HBoxView",
            "_dom_classes": [],
            "_model_name": "HBoxModel",
            "_view_module": "@jupyter-widgets/controls",
            "_model_module_version": "1.5.0",
            "_view_count": null,
            "_view_module_version": "1.5.0",
            "box_style": "",
            "layout": "IPY_MODEL_018f39832d9649a6bf19b298114a3297",
            "_model_module": "@jupyter-widgets/controls",
            "children": [
              "IPY_MODEL_1dba509732774ae18a8183110af39dfc",
              "IPY_MODEL_8dcd822f91c047188fee86797d9aa268"
            ]
          }
        },
        "018f39832d9649a6bf19b298114a3297": {
          "model_module": "@jupyter-widgets/base",
          "model_name": "LayoutModel",
          "state": {
            "_view_name": "LayoutView",
            "grid_template_rows": null,
            "right": null,
            "justify_content": null,
            "_view_module": "@jupyter-widgets/base",
            "overflow": null,
            "_model_module_version": "1.2.0",
            "_view_count": null,
            "flex_flow": null,
            "width": null,
            "min_width": null,
            "border": null,
            "align_items": null,
            "bottom": null,
            "_model_module": "@jupyter-widgets/base",
            "top": null,
            "grid_column": null,
            "overflow_y": null,
            "overflow_x": null,
            "grid_auto_flow": null,
            "grid_area": null,
            "grid_template_columns": null,
            "flex": null,
            "_model_name": "LayoutModel",
            "justify_items": null,
            "grid_row": null,
            "max_height": null,
            "align_content": null,
            "visibility": null,
            "align_self": null,
            "height": null,
            "min_height": null,
            "padding": null,
            "grid_auto_rows": null,
            "grid_gap": null,
            "max_width": null,
            "order": null,
            "_view_module_version": "1.2.0",
            "grid_template_areas": null,
            "object_position": null,
            "object_fit": null,
            "grid_auto_columns": null,
            "margin": null,
            "display": null,
            "left": null
          }
        },
        "1dba509732774ae18a8183110af39dfc": {
          "model_module": "@jupyter-widgets/controls",
          "model_name": "FloatProgressModel",
          "state": {
            "_view_name": "ProgressView",
            "style": "IPY_MODEL_97acc973a83741b3b985606bc8777801",
            "_dom_classes": [],
            "description": "Downloading: 100%",
            "_model_name": "FloatProgressModel",
            "bar_style": "success",
            "max": 1596,
            "_view_module": "@jupyter-widgets/controls",
            "_model_module_version": "1.5.0",
            "value": 1596,
            "_view_count": null,
            "_view_module_version": "1.5.0",
            "orientation": "horizontal",
            "min": 0,
            "description_tooltip": null,
            "_model_module": "@jupyter-widgets/controls",
            "layout": "IPY_MODEL_be91a40b654e4824a8a57b0676b26506"
          }
        },
        "8dcd822f91c047188fee86797d9aa268": {
          "model_module": "@jupyter-widgets/controls",
          "model_name": "HTMLModel",
          "state": {
            "_view_name": "HTMLView",
            "style": "IPY_MODEL_7d28310055704e1d9304c67397297089",
            "_dom_classes": [],
            "description": "",
            "_model_name": "HTMLModel",
            "placeholder": "​",
            "_view_module": "@jupyter-widgets/controls",
            "_model_module_version": "1.5.0",
            "value": " 1.60k/1.60k [00:00&lt;00:00, 4.20kB/s]",
            "_view_count": null,
            "_view_module_version": "1.5.0",
            "description_tooltip": null,
            "_model_module": "@jupyter-widgets/controls",
            "layout": "IPY_MODEL_dfce2a3b47dc4322803e02f7909f3d09"
          }
        },
        "97acc973a83741b3b985606bc8777801": {
          "model_module": "@jupyter-widgets/controls",
          "model_name": "ProgressStyleModel",
          "state": {
            "_view_name": "StyleView",
            "_model_name": "ProgressStyleModel",
            "description_width": "initial",
            "_view_module": "@jupyter-widgets/base",
            "_model_module_version": "1.5.0",
            "_view_count": null,
            "_view_module_version": "1.2.0",
            "bar_color": null,
            "_model_module": "@jupyter-widgets/controls"
          }
        },
        "be91a40b654e4824a8a57b0676b26506": {
          "model_module": "@jupyter-widgets/base",
          "model_name": "LayoutModel",
          "state": {
            "_view_name": "LayoutView",
            "grid_template_rows": null,
            "right": null,
            "justify_content": null,
            "_view_module": "@jupyter-widgets/base",
            "overflow": null,
            "_model_module_version": "1.2.0",
            "_view_count": null,
            "flex_flow": null,
            "width": null,
            "min_width": null,
            "border": null,
            "align_items": null,
            "bottom": null,
            "_model_module": "@jupyter-widgets/base",
            "top": null,
            "grid_column": null,
            "overflow_y": null,
            "overflow_x": null,
            "grid_auto_flow": null,
            "grid_area": null,
            "grid_template_columns": null,
            "flex": null,
            "_model_name": "LayoutModel",
            "justify_items": null,
            "grid_row": null,
            "max_height": null,
            "align_content": null,
            "visibility": null,
            "align_self": null,
            "height": null,
            "min_height": null,
            "padding": null,
            "grid_auto_rows": null,
            "grid_gap": null,
            "max_width": null,
            "order": null,
            "_view_module_version": "1.2.0",
            "grid_template_areas": null,
            "object_position": null,
            "object_fit": null,
            "grid_auto_columns": null,
            "margin": null,
            "display": null,
            "left": null
          }
        },
        "7d28310055704e1d9304c67397297089": {
          "model_module": "@jupyter-widgets/controls",
          "model_name": "DescriptionStyleModel",
          "state": {
            "_view_name": "StyleView",
            "_model_name": "DescriptionStyleModel",
            "description_width": "",
            "_view_module": "@jupyter-widgets/base",
            "_model_module_version": "1.5.0",
            "_view_count": null,
            "_view_module_version": "1.2.0",
            "_model_module": "@jupyter-widgets/controls"
          }
        },
        "dfce2a3b47dc4322803e02f7909f3d09": {
          "model_module": "@jupyter-widgets/base",
          "model_name": "LayoutModel",
          "state": {
            "_view_name": "LayoutView",
            "grid_template_rows": null,
            "right": null,
            "justify_content": null,
            "_view_module": "@jupyter-widgets/base",
            "overflow": null,
            "_model_module_version": "1.2.0",
            "_view_count": null,
            "flex_flow": null,
            "width": null,
            "min_width": null,
            "border": null,
            "align_items": null,
            "bottom": null,
            "_model_module": "@jupyter-widgets/base",
            "top": null,
            "grid_column": null,
            "overflow_y": null,
            "overflow_x": null,
            "grid_auto_flow": null,
            "grid_area": null,
            "grid_template_columns": null,
            "flex": null,
            "_model_name": "LayoutModel",
            "justify_items": null,
            "grid_row": null,
            "max_height": null,
            "align_content": null,
            "visibility": null,
            "align_self": null,
            "height": null,
            "min_height": null,
            "padding": null,
            "grid_auto_rows": null,
            "grid_gap": null,
            "max_width": null,
            "order": null,
            "_view_module_version": "1.2.0",
            "grid_template_areas": null,
            "object_position": null,
            "object_fit": null,
            "grid_auto_columns": null,
            "margin": null,
            "display": null,
            "left": null
          }
        },
        "e128022a23954a16ac80fc75aadfda60": {
          "model_module": "@jupyter-widgets/controls",
          "model_name": "HBoxModel",
          "state": {
            "_view_name": "HBoxView",
            "_dom_classes": [],
            "_model_name": "HBoxModel",
            "_view_module": "@jupyter-widgets/controls",
            "_model_module_version": "1.5.0",
            "_view_count": null,
            "_view_module_version": "1.5.0",
            "box_style": "",
            "layout": "IPY_MODEL_dc96424b499b4ec6af43e0d1271a4709",
            "_model_module": "@jupyter-widgets/controls",
            "children": [
              "IPY_MODEL_ee9428bedf4442ad945cf48f2dbe6e7d",
              "IPY_MODEL_73f532a3fcad4ae1a5a63ddd1fbb0ba6"
            ]
          }
        },
        "dc96424b499b4ec6af43e0d1271a4709": {
          "model_module": "@jupyter-widgets/base",
          "model_name": "LayoutModel",
          "state": {
            "_view_name": "LayoutView",
            "grid_template_rows": null,
            "right": null,
            "justify_content": null,
            "_view_module": "@jupyter-widgets/base",
            "overflow": null,
            "_model_module_version": "1.2.0",
            "_view_count": null,
            "flex_flow": null,
            "width": null,
            "min_width": null,
            "border": null,
            "align_items": null,
            "bottom": null,
            "_model_module": "@jupyter-widgets/base",
            "top": null,
            "grid_column": null,
            "overflow_y": null,
            "overflow_x": null,
            "grid_auto_flow": null,
            "grid_area": null,
            "grid_template_columns": null,
            "flex": null,
            "_model_name": "LayoutModel",
            "justify_items": null,
            "grid_row": null,
            "max_height": null,
            "align_content": null,
            "visibility": null,
            "align_self": null,
            "height": null,
            "min_height": null,
            "padding": null,
            "grid_auto_rows": null,
            "grid_gap": null,
            "max_width": null,
            "order": null,
            "_view_module_version": "1.2.0",
            "grid_template_areas": null,
            "object_position": null,
            "object_fit": null,
            "grid_auto_columns": null,
            "margin": null,
            "display": null,
            "left": null
          }
        },
        "ee9428bedf4442ad945cf48f2dbe6e7d": {
          "model_module": "@jupyter-widgets/controls",
          "model_name": "FloatProgressModel",
          "state": {
            "_view_name": "ProgressView",
            "style": "IPY_MODEL_06b6c482d2ce4befa337a97c156d4221",
            "_dom_classes": [],
            "description": "Downloading: 100%",
            "_model_name": "FloatProgressModel",
            "bar_style": "success",
            "max": 377667514,
            "_view_module": "@jupyter-widgets/controls",
            "_model_module_version": "1.5.0",
            "value": 377667514,
            "_view_count": null,
            "_view_module_version": "1.5.0",
            "orientation": "horizontal",
            "min": 0,
            "description_tooltip": null,
            "_model_module": "@jupyter-widgets/controls",
            "layout": "IPY_MODEL_2641d24da1cc46b7a26965b2b3373d59"
          }
        },
        "73f532a3fcad4ae1a5a63ddd1fbb0ba6": {
          "model_module": "@jupyter-widgets/controls",
          "model_name": "HTMLModel",
          "state": {
            "_view_name": "HTMLView",
            "style": "IPY_MODEL_dae5adc4e2c04c5099780485d174bdfa",
            "_dom_classes": [],
            "description": "",
            "_model_name": "HTMLModel",
            "placeholder": "​",
            "_view_module": "@jupyter-widgets/controls",
            "_model_module_version": "1.5.0",
            "value": " 378M/378M [00:48&lt;00:00, 7.83MB/s]",
            "_view_count": null,
            "_view_module_version": "1.5.0",
            "description_tooltip": null,
            "_model_module": "@jupyter-widgets/controls",
            "layout": "IPY_MODEL_aafcd5ac682f4ba9be6011fa6b4492f6"
          }
        },
        "06b6c482d2ce4befa337a97c156d4221": {
          "model_module": "@jupyter-widgets/controls",
          "model_name": "ProgressStyleModel",
          "state": {
            "_view_name": "StyleView",
            "_model_name": "ProgressStyleModel",
            "description_width": "initial",
            "_view_module": "@jupyter-widgets/base",
            "_model_module_version": "1.5.0",
            "_view_count": null,
            "_view_module_version": "1.2.0",
            "bar_color": null,
            "_model_module": "@jupyter-widgets/controls"
          }
        },
        "2641d24da1cc46b7a26965b2b3373d59": {
          "model_module": "@jupyter-widgets/base",
          "model_name": "LayoutModel",
          "state": {
            "_view_name": "LayoutView",
            "grid_template_rows": null,
            "right": null,
            "justify_content": null,
            "_view_module": "@jupyter-widgets/base",
            "overflow": null,
            "_model_module_version": "1.2.0",
            "_view_count": null,
            "flex_flow": null,
            "width": null,
            "min_width": null,
            "border": null,
            "align_items": null,
            "bottom": null,
            "_model_module": "@jupyter-widgets/base",
            "top": null,
            "grid_column": null,
            "overflow_y": null,
            "overflow_x": null,
            "grid_auto_flow": null,
            "grid_area": null,
            "grid_template_columns": null,
            "flex": null,
            "_model_name": "LayoutModel",
            "justify_items": null,
            "grid_row": null,
            "max_height": null,
            "align_content": null,
            "visibility": null,
            "align_self": null,
            "height": null,
            "min_height": null,
            "padding": null,
            "grid_auto_rows": null,
            "grid_gap": null,
            "max_width": null,
            "order": null,
            "_view_module_version": "1.2.0",
            "grid_template_areas": null,
            "object_position": null,
            "object_fit": null,
            "grid_auto_columns": null,
            "margin": null,
            "display": null,
            "left": null
          }
        },
        "dae5adc4e2c04c5099780485d174bdfa": {
          "model_module": "@jupyter-widgets/controls",
          "model_name": "DescriptionStyleModel",
          "state": {
            "_view_name": "StyleView",
            "_model_name": "DescriptionStyleModel",
            "description_width": "",
            "_view_module": "@jupyter-widgets/base",
            "_model_module_version": "1.5.0",
            "_view_count": null,
            "_view_module_version": "1.2.0",
            "_model_module": "@jupyter-widgets/controls"
          }
        },
        "aafcd5ac682f4ba9be6011fa6b4492f6": {
          "model_module": "@jupyter-widgets/base",
          "model_name": "LayoutModel",
          "state": {
            "_view_name": "LayoutView",
            "grid_template_rows": null,
            "right": null,
            "justify_content": null,
            "_view_module": "@jupyter-widgets/base",
            "overflow": null,
            "_model_module_version": "1.2.0",
            "_view_count": null,
            "flex_flow": null,
            "width": null,
            "min_width": null,
            "border": null,
            "align_items": null,
            "bottom": null,
            "_model_module": "@jupyter-widgets/base",
            "top": null,
            "grid_column": null,
            "overflow_y": null,
            "overflow_x": null,
            "grid_auto_flow": null,
            "grid_area": null,
            "grid_template_columns": null,
            "flex": null,
            "_model_name": "LayoutModel",
            "justify_items": null,
            "grid_row": null,
            "max_height": null,
            "align_content": null,
            "visibility": null,
            "align_self": null,
            "height": null,
            "min_height": null,
            "padding": null,
            "grid_auto_rows": null,
            "grid_gap": null,
            "max_width": null,
            "order": null,
            "_view_module_version": "1.2.0",
            "grid_template_areas": null,
            "object_position": null,
            "object_fit": null,
            "grid_auto_columns": null,
            "margin": null,
            "display": null,
            "left": null
          }
        }
      }
    }
  },
  "cells": [
    {
      "cell_type": "markdown",
      "metadata": {
        "id": "view-in-github",
        "colab_type": "text"
      },
      "source": [
        "<a href=\"https://colab.research.google.com/github/dpk-a7/Deep-learning/blob/main/Wav2Vec_huggingFace_FB.ipynb\" target=\"_parent\"><img src=\"https://colab.research.google.com/assets/colab-badge.svg\" alt=\"Open In Colab\"/></a>"
      ]
    },
    {
      "cell_type": "code",
      "metadata": {
        "id": "TFFIEt9hA1t9"
      },
      "source": [
        "from IPython.display import Audio\n",
        "from scipy.io import wavfile\n",
        "import numpy as np"
      ],
      "execution_count": 1,
      "outputs": []
    },
    {
      "cell_type": "code",
      "metadata": {
        "id": "sEqhou27n4sj"
      },
      "source": [
        "file = 'ss.wav'"
      ],
      "execution_count": 2,
      "outputs": []
    },
    {
      "cell_type": "code",
      "metadata": {
        "colab": {
          "base_uri": "https://localhost:8080/",
          "height": 61
        },
        "id": "HbTqksHPn665",
        "outputId": "4dfbdea9-35e4-48fc-d0e5-f9f500563765"
      },
      "source": [
        "Audio(file)"
      ],
      "execution_count": 3,
      "outputs": [
        {
          "output_type": "execute_result",
          "data": {
            "text/html": [
              "\n",
              "                <audio controls=\"controls\" >\n",
              "                    <source src=\"data:audio/x-wav;base64,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\" type=\"audio/x-wav\" />\n",
              "                    Your browser does not support the audio element.\n",
              "                </audio>\n",
              "              "
            ],
            "text/plain": [
              "<IPython.lib.display.Audio object>"
            ]
          },
          "metadata": {
            "tags": []
          },
          "execution_count": 3
        }
      ]
    },
    {
      "cell_type": "code",
      "metadata": {
        "colab": {
          "base_uri": "https://localhost:8080/"
        },
        "id": "VgbEgYP8n8ga",
        "outputId": "1be8b70c-1530-48e7-a531-2b1a94018de6"
      },
      "source": [
        "data = wavfile.read(file)\n",
        "framerate = data[0]\n",
        "sounddata = data[1]\n",
        "time = np.arange(0, len(sounddata)) / framerate\n",
        "print(\"Sample rate: \",framerate, 'Hz')\n",
        "print(\"Total time: \", len(sounddata)/framerate, 's')"
      ],
      "execution_count": 4,
      "outputs": [
        {
          "output_type": "stream",
          "text": [
            "Sample rate:  24000 Hz\n",
            "Total time:  1.704 s\n"
          ],
          "name": "stdout"
        }
      ]
    },
    {
      "cell_type": "code",
      "metadata": {
        "colab": {
          "base_uri": "https://localhost:8080/"
        },
        "id": "4fFalXU4oZM5",
        "outputId": "475af948-ddb4-43c0-f0c9-2100d5e371ac"
      },
      "source": [
        "!pip install -q transformers"
      ],
      "execution_count": 5,
      "outputs": [
        {
          "output_type": "stream",
          "text": [
            "\u001b[K     |████████████████████████████████| 2.3MB 4.0MB/s \n",
            "\u001b[K     |████████████████████████████████| 3.3MB 41.5MB/s \n",
            "\u001b[K     |████████████████████████████████| 901kB 39.5MB/s \n",
            "\u001b[?25h"
          ],
          "name": "stdout"
        }
      ]
    },
    {
      "cell_type": "code",
      "metadata": {
        "id": "IWzljhCWoevb"
      },
      "source": [
        "import soundfile as sf\n",
        "import librosa\n",
        "import torch\n",
        "from transformers import Wav2Vec2ForCTC, Wav2Vec2Tokenizer"
      ],
      "execution_count": 6,
      "outputs": []
    },
    {
      "cell_type": "code",
      "metadata": {
        "colab": {
          "base_uri": "https://localhost:8080/",
          "height": 361,
          "referenced_widgets": [
            "4d731305d28e4887b631d7aa115e77dc",
            "c7ea67c0b57242ac9e07e1420483de13",
            "2575c73859394b31a62cc7a7776440e7",
            "b191c7dc12fa4221ba69b298a34973e5",
            "cc825a90870f485ca6ad6f4f718f0639",
            "88a52478a23044bfa71b43344bb2a3e8",
            "7533b605fa9f4f5397540b7d9723d2b3",
            "9e4df8f9fd634acb86fc087763d8127a",
            "8f90a3ae7d624c24bd14bd2a510bd179",
            "e6c62264cf904c37a2509c11b9e4fdb2",
            "2b90990eb0c8452c91133e73a6d22576",
            "b8997615f4044cffb359f1c5b8923baf",
            "a61602260f1e4c9ea41ae97ee01ec9a6",
            "b9d2d052c4064fde92f7d794e8236192",
            "8251e5a532f747e4a64bebf2304c5a4d",
            "6e95c976cf284042b385bdaf60fc56fe",
            "671f85f128644f76ad53e2af88ac6455",
            "4e58d10d2c4c4316bccd3bcd7d5ecd01",
            "3ce4825a8acb4ad6b163d85f74acd9c5",
            "e4a7ce7bf83c48f49d3e1b739e8b9509",
            "f7346694643c4fe7b488ce0a7bfafc41",
            "01a8c4356b254dcf8e68b2876b2d964b",
            "7ced8bbaff6e4171ab4c8a4d4e513e10",
            "2c819eefdd1b4b5591320c5abb9ed521",
            "febbd9c10dcd4be5be959de17c306d9d",
            "018f39832d9649a6bf19b298114a3297",
            "1dba509732774ae18a8183110af39dfc",
            "8dcd822f91c047188fee86797d9aa268",
            "97acc973a83741b3b985606bc8777801",
            "be91a40b654e4824a8a57b0676b26506",
            "7d28310055704e1d9304c67397297089",
            "dfce2a3b47dc4322803e02f7909f3d09",
            "e128022a23954a16ac80fc75aadfda60",
            "dc96424b499b4ec6af43e0d1271a4709",
            "ee9428bedf4442ad945cf48f2dbe6e7d",
            "73f532a3fcad4ae1a5a63ddd1fbb0ba6",
            "06b6c482d2ce4befa337a97c156d4221",
            "2641d24da1cc46b7a26965b2b3373d59",
            "dae5adc4e2c04c5099780485d174bdfa",
            "aafcd5ac682f4ba9be6011fa6b4492f6"
          ]
        },
        "id": "VN9g3-jror7C",
        "outputId": "f75b7208-a76f-41ee-901d-d86c784417e2"
      },
      "source": [
        "tokenizer = Wav2Vec2Tokenizer.from_pretrained(\"facebook/wav2vec2-base-960h\")\n",
        "model = Wav2Vec2ForCTC.from_pretrained('facebook/wav2vec2-base-960h')"
      ],
      "execution_count": 7,
      "outputs": [
        {
          "output_type": "display_data",
          "data": {
            "application/vnd.jupyter.widget-view+json": {
              "model_id": "4d731305d28e4887b631d7aa115e77dc",
              "version_minor": 0,
              "version_major": 2
            },
            "text/plain": [
              "HBox(children=(FloatProgress(value=0.0, description='Downloading', max=291.0, style=ProgressStyle(description_…"
            ]
          },
          "metadata": {
            "tags": []
          }
        },
        {
          "output_type": "stream",
          "text": [
            "\n"
          ],
          "name": "stdout"
        },
        {
          "output_type": "display_data",
          "data": {
            "application/vnd.jupyter.widget-view+json": {
              "model_id": "8f90a3ae7d624c24bd14bd2a510bd179",
              "version_minor": 0,
              "version_major": 2
            },
            "text/plain": [
              "HBox(children=(FloatProgress(value=0.0, description='Downloading', max=163.0, style=ProgressStyle(description_…"
            ]
          },
          "metadata": {
            "tags": []
          }
        },
        {
          "output_type": "stream",
          "text": [
            "\n"
          ],
          "name": "stdout"
        },
        {
          "output_type": "display_data",
          "data": {
            "application/vnd.jupyter.widget-view+json": {
              "model_id": "671f85f128644f76ad53e2af88ac6455",
              "version_minor": 0,
              "version_major": 2
            },
            "text/plain": [
              "HBox(children=(FloatProgress(value=0.0, description='Downloading', max=85.0, style=ProgressStyle(description_w…"
            ]
          },
          "metadata": {
            "tags": []
          }
        },
        {
          "output_type": "stream",
          "text": [
            "\n"
          ],
          "name": "stdout"
        },
        {
          "output_type": "stream",
          "text": [
            "/usr/local/lib/python3.7/dist-packages/transformers/models/wav2vec2/tokenization_wav2vec2.py:419: FutureWarning: The class `Wav2Vec2Tokenizer` is deprecated and will be removed in version 5 of Transformers. Please use `Wav2Vec2Processor` or `Wav2Vec2CTCTokenizer` instead.\n",
            "  FutureWarning,\n"
          ],
          "name": "stderr"
        },
        {
          "output_type": "display_data",
          "data": {
            "application/vnd.jupyter.widget-view+json": {
              "model_id": "febbd9c10dcd4be5be959de17c306d9d",
              "version_minor": 0,
              "version_major": 2
            },
            "text/plain": [
              "HBox(children=(FloatProgress(value=0.0, description='Downloading', max=1596.0, style=ProgressStyle(description…"
            ]
          },
          "metadata": {
            "tags": []
          }
        },
        {
          "output_type": "stream",
          "text": [
            "\n"
          ],
          "name": "stdout"
        },
        {
          "output_type": "display_data",
          "data": {
            "application/vnd.jupyter.widget-view+json": {
              "model_id": "e128022a23954a16ac80fc75aadfda60",
              "version_minor": 0,
              "version_major": 2
            },
            "text/plain": [
              "HBox(children=(FloatProgress(value=0.0, description='Downloading', max=377667514.0, style=ProgressStyle(descri…"
            ]
          },
          "metadata": {
            "tags": []
          }
        },
        {
          "output_type": "stream",
          "text": [
            "\n"
          ],
          "name": "stdout"
        },
        {
          "output_type": "stream",
          "text": [
            "Some weights of Wav2Vec2ForCTC were not initialized from the model checkpoint at facebook/wav2vec2-base-960h and are newly initialized: ['wav2vec2.masked_spec_embed']\n",
            "You should probably TRAIN this model on a down-stream task to be able to use it for predictions and inference.\n"
          ],
          "name": "stderr"
        }
      ]
    },
    {
      "cell_type": "code",
      "metadata": {
        "id": "vKeXRgBuo9lc"
      },
      "source": [
        "input_data, _ = librosa.load(file, sr = 16000)"
      ],
      "execution_count": 9,
      "outputs": []
    },
    {
      "cell_type": "code",
      "metadata": {
        "id": "sAPEKWo0pJon"
      },
      "source": [
        "input_values = tokenizer(input_data, return_tensors='pt').input_values\n",
        "logits = model(input_values).logits\n",
        "predicted_ids = torch.argmax(logits,dim=-1)\n",
        "transcription = tokenizer.batch_decode(predicted_ids)[0]"
      ],
      "execution_count": 10,
      "outputs": []
    },
    {
      "cell_type": "code",
      "metadata": {
        "colab": {
          "base_uri": "https://localhost:8080/",
          "height": 36
        },
        "id": "vK4633I5ppBM",
        "outputId": "dc6a8985-1384-49ef-a475-a04e214c4726"
      },
      "source": [
        "transcription"
      ],
      "execution_count": 11,
      "outputs": [
        {
          "output_type": "execute_result",
          "data": {
            "application/vnd.google.colaboratory.intrinsic+json": {
              "type": "string"
            },
            "text/plain": [
              "'WE REACHED OUR DESTINATION'"
            ]
          },
          "metadata": {
            "tags": []
          },
          "execution_count": 11
        }
      ]
    },
    {
      "cell_type": "code",
      "metadata": {
        "id": "Q8AW8u0Pprge"
      },
      "source": [
        ""
      ],
      "execution_count": null,
      "outputs": []
    }
  ]
}