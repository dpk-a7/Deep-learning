{
  "nbformat": 4,
  "nbformat_minor": 0,
  "metadata": {
    "colab": {
      "name": "lstm_toxic_comments.ipynb",
      "provenance": [],
      "collapsed_sections": [],
      "authorship_tag": "ABX9TyOuQXPovZEkws63sGXTRB76",
      "include_colab_link": true
    },
    "kernelspec": {
      "name": "python3",
      "display_name": "Python 3"
    },
    "language_info": {
      "name": "python"
    }
  },
  "cells": [
    {
      "cell_type": "markdown",
      "metadata": {
        "id": "view-in-github",
        "colab_type": "text"
      },
      "source": [
        "<a href=\"https://colab.research.google.com/github/dpk-a7/Deep-learning/blob/main/lstm_toxic_comments.ipynb\" target=\"_parent\"><img src=\"https://colab.research.google.com/assets/colab-badge.svg\" alt=\"Open In Colab\"/></a>"
      ]
    },
    {
      "cell_type": "code",
      "metadata": {
        "colab": {
          "base_uri": "https://localhost:8080/"
        },
        "id": "Zu3kIccGKiPf",
        "outputId": "d1f60d93-9c84-4755-f79e-64da79abf1f1"
      },
      "source": [
        "!wget http://nlp.stanford.edu/data/glove.6B.zip\n",
        "!pip install -q kaggle\n",
        "!pip install -q kaggle-cli\n",
        "!mkdir -p ~/.kaggle\n",
        "!cp \"kaggle.json\" ~/.kaggle/\n",
        "!cat ~/.kaggle/kaggle.json \n",
        "!chmod 600 ~/.kaggle/kaggle.json# For competition datasets\n",
        "!kaggle competitions download -c jigsaw-toxic-comment-classification-challenge"
      ],
      "execution_count": 1,
      "outputs": [
        {
          "output_type": "stream",
          "text": [
            "--2021-07-12 14:47:21--  http://nlp.stanford.edu/data/glove.6B.zip\n",
            "Resolving nlp.stanford.edu (nlp.stanford.edu)... 171.64.67.140\n",
            "Connecting to nlp.stanford.edu (nlp.stanford.edu)|171.64.67.140|:80... connected.\n",
            "HTTP request sent, awaiting response... 302 Found\n",
            "Location: https://nlp.stanford.edu/data/glove.6B.zip [following]\n",
            "--2021-07-12 14:47:21--  https://nlp.stanford.edu/data/glove.6B.zip\n",
            "Connecting to nlp.stanford.edu (nlp.stanford.edu)|171.64.67.140|:443... connected.\n",
            "HTTP request sent, awaiting response... 301 Moved Permanently\n",
            "Location: http://downloads.cs.stanford.edu/nlp/data/glove.6B.zip [following]\n",
            "--2021-07-12 14:47:21--  http://downloads.cs.stanford.edu/nlp/data/glove.6B.zip\n",
            "Resolving downloads.cs.stanford.edu (downloads.cs.stanford.edu)... 171.64.64.22\n",
            "Connecting to downloads.cs.stanford.edu (downloads.cs.stanford.edu)|171.64.64.22|:80... connected.\n",
            "HTTP request sent, awaiting response... 200 OK\n",
            "Length: 862182613 (822M) [application/zip]\n",
            "Saving to: ‘glove.6B.zip’\n",
            "\n",
            "glove.6B.zip        100%[===================>] 822.24M  5.15MB/s    in 2m 40s  \n",
            "\n",
            "2021-07-12 14:50:02 (5.13 MB/s) - ‘glove.6B.zip’ saved [862182613/862182613]\n",
            "\n",
            "\u001b[K     |████████████████████████████████| 81kB 2.8MB/s \n",
            "\u001b[K     |████████████████████████████████| 4.2MB 5.1MB/s \n",
            "\u001b[K     |████████████████████████████████| 112kB 17.9MB/s \n",
            "\u001b[K     |████████████████████████████████| 143kB 20.5MB/s \n",
            "\u001b[K     |████████████████████████████████| 51kB 554kB/s \n",
            "\u001b[?25h  Building wheel for kaggle-cli (setup.py) ... \u001b[?25l\u001b[?25hdone\n",
            "  Building wheel for lxml (setup.py) ... \u001b[?25lerror\n",
            "\u001b[31m  ERROR: Failed building wheel for lxml\u001b[0m\n",
            "\u001b[?25h  Building wheel for PrettyTable (setup.py) ... \u001b[?25l\u001b[?25hdone\n",
            "  Building wheel for pyperclip (setup.py) ... \u001b[?25l\u001b[?25hdone\n",
            "    Running setup.py install for lxml ... \u001b[?25l\u001b[?25herror\n",
            "\u001b[31mERROR: Command errored out with exit status 1: /usr/bin/python3 -u -c 'import sys, setuptools, tokenize; sys.argv[0] = '\"'\"'/tmp/pip-install-xwla_x0l/lxml/setup.py'\"'\"'; __file__='\"'\"'/tmp/pip-install-xwla_x0l/lxml/setup.py'\"'\"';f=getattr(tokenize, '\"'\"'open'\"'\"', open)(__file__);code=f.read().replace('\"'\"'\\r\\n'\"'\"', '\"'\"'\\n'\"'\"');f.close();exec(compile(code, __file__, '\"'\"'exec'\"'\"'))' install --record /tmp/pip-record-vt5sug_j/install-record.txt --single-version-externally-managed --compile Check the logs for full command output.\u001b[0m\n",
            "{\"username\":\"deepakavudiappan\",\"key\":\"f85a7e006b065d4a782c1ab2b3ff214e\"}chmod: cannot access '/root/.kaggle/kaggle.json#': No such file or directory\n",
            "chmod: cannot access 'For': No such file or directory\n",
            "chmod: cannot access 'competition': No such file or directory\n",
            "chmod: cannot access 'datasets': No such file or directory\n",
            "Warning: Your Kaggle API key is readable by other users on this system! To fix this, you can run 'chmod 600 /root/.kaggle/kaggle.json'\n",
            "Warning: Looks like you're using an outdated API Version, please consider updating (server 1.5.12 / client 1.5.4)\n",
            "Downloading test.csv.zip to /content\n",
            " 38% 9.00M/23.4M [00:00<00:00, 82.5MB/s]\n",
            "100% 23.4M/23.4M [00:00<00:00, 115MB/s] \n",
            "Downloading sample_submission.csv.zip to /content\n",
            "  0% 0.00/1.39M [00:00<?, ?B/s]\n",
            "100% 1.39M/1.39M [00:00<00:00, 93.3MB/s]\n",
            "Downloading test_labels.csv.zip to /content\n",
            "  0% 0.00/1.46M [00:00<?, ?B/s]\n",
            "100% 1.46M/1.46M [00:00<00:00, 101MB/s]\n",
            "Downloading train.csv.zip to /content\n",
            " 91% 24.0M/26.3M [00:00<00:00, 50.6MB/s]\n",
            "100% 26.3M/26.3M [00:00<00:00, 104MB/s] \n"
          ],
          "name": "stdout"
        }
      ]
    },
    {
      "cell_type": "code",
      "metadata": {
        "colab": {
          "base_uri": "https://localhost:8080/"
        },
        "id": "RITc5TNaLSE9",
        "outputId": "4051d597-95eb-49b1-9555-588c8f82d2b3"
      },
      "source": [
        "!unzip glove.6B.zip\n",
        "!unzip train.csv.zip\n",
        "!unzip test.csv.zip"
      ],
      "execution_count": 2,
      "outputs": [
        {
          "output_type": "stream",
          "text": [
            "Archive:  glove.6B.zip\n",
            "  inflating: glove.6B.50d.txt        \n",
            "  inflating: glove.6B.100d.txt       \n",
            "  inflating: glove.6B.200d.txt       \n",
            "  inflating: glove.6B.300d.txt       \n",
            "Archive:  train.csv.zip\n",
            "  inflating: train.csv               \n",
            "Archive:  test.csv.zip\n",
            "  inflating: test.csv                \n"
          ],
          "name": "stdout"
        }
      ]
    },
    {
      "cell_type": "code",
      "metadata": {
        "id": "rRf5HnUTLSPu"
      },
      "source": [
        "import os\n",
        "import sys\n",
        "import numpy as np\n",
        "import pandas as pd\n",
        "import matplotlib.pyplot as plt\n",
        "from keras.models import Model\n",
        "from keras.layers import Dense, Embedding, Input\n",
        "from keras.layers import LSTM, Bidirectional, GlobalMaxPool1D, Dropout\n",
        "from keras.preprocessing.text import Tokenizer\n",
        "from keras.preprocessing.sequence import pad_sequences\n",
        "from keras.optimizers import Adam\n",
        "from sklearn.metrics import roc_auc_score"
      ],
      "execution_count": 3,
      "outputs": []
    },
    {
      "cell_type": "code",
      "metadata": {
        "id": "JLjoceoaMTXS"
      },
      "source": [
        "MAX_SEQ_LENGTH = 100\n",
        "MAX_VOCAB_SIZE = 20000\n",
        "EMBEDDING_DIM = 100\n",
        "VALIDATION_SPLIT = 0.2\n",
        "BATCH_SIZE = 128\n",
        "EPOCHS = 10"
      ],
      "execution_count": 4,
      "outputs": []
    },
    {
      "cell_type": "code",
      "metadata": {
        "colab": {
          "base_uri": "https://localhost:8080/"
        },
        "id": "g7XwGcQDM9y9",
        "outputId": "ed653cd8-e87a-499a-b994-edb29248ec72"
      },
      "source": [
        "#loading word vectors..\n",
        "word2vec = {} #key = word: value = vectors\n",
        "with open(os.path.join(\"glove.6B.%sd.txt\" % EMBEDDING_DIM)) as f:\n",
        "  for line in f:\n",
        "    values = line.split()\n",
        "    word = values[0]\n",
        "    vec = np.asarray(values[1:], dtype= 'float32')\n",
        "    word2vec[word] = vec\n",
        "print(\"found %s word vectors\" % len(word2vec))"
      ],
      "execution_count": 5,
      "outputs": [
        {
          "output_type": "stream",
          "text": [
            "found 400000 word vectors\n"
          ],
          "name": "stdout"
        }
      ]
    },
    {
      "cell_type": "code",
      "metadata": {
        "colab": {
          "base_uri": "https://localhost:8080/"
        },
        "id": "Yg2q7kfaM_5H",
        "outputId": "6ea519fe-16da-40f4-9e01-774abc826fdb"
      },
      "source": [
        "word2vec['the']"
      ],
      "execution_count": 6,
      "outputs": [
        {
          "output_type": "execute_result",
          "data": {
            "text/plain": [
              "array([-0.038194, -0.24487 ,  0.72812 , -0.39961 ,  0.083172,  0.043953,\n",
              "       -0.39141 ,  0.3344  , -0.57545 ,  0.087459,  0.28787 , -0.06731 ,\n",
              "        0.30906 , -0.26384 , -0.13231 , -0.20757 ,  0.33395 , -0.33848 ,\n",
              "       -0.31743 , -0.48336 ,  0.1464  , -0.37304 ,  0.34577 ,  0.052041,\n",
              "        0.44946 , -0.46971 ,  0.02628 , -0.54155 , -0.15518 , -0.14107 ,\n",
              "       -0.039722,  0.28277 ,  0.14393 ,  0.23464 , -0.31021 ,  0.086173,\n",
              "        0.20397 ,  0.52624 ,  0.17164 , -0.082378, -0.71787 , -0.41531 ,\n",
              "        0.20335 , -0.12763 ,  0.41367 ,  0.55187 ,  0.57908 , -0.33477 ,\n",
              "       -0.36559 , -0.54857 , -0.062892,  0.26584 ,  0.30205 ,  0.99775 ,\n",
              "       -0.80481 , -3.0243  ,  0.01254 , -0.36942 ,  2.2167  ,  0.72201 ,\n",
              "       -0.24978 ,  0.92136 ,  0.034514,  0.46745 ,  1.1079  , -0.19358 ,\n",
              "       -0.074575,  0.23353 , -0.052062, -0.22044 ,  0.057162, -0.15806 ,\n",
              "       -0.30798 , -0.41625 ,  0.37972 ,  0.15006 , -0.53212 , -0.2055  ,\n",
              "       -1.2526  ,  0.071624,  0.70565 ,  0.49744 , -0.42063 ,  0.26148 ,\n",
              "       -1.538   , -0.30223 , -0.073438, -0.28312 ,  0.37104 , -0.25217 ,\n",
              "        0.016215, -0.017099, -0.38984 ,  0.87424 , -0.72569 , -0.51058 ,\n",
              "       -0.52028 , -0.1459  ,  0.8278  ,  0.27062 ], dtype=float32)"
            ]
          },
          "metadata": {
            "tags": []
          },
          "execution_count": 6
        }
      ]
    },
    {
      "cell_type": "code",
      "metadata": {
        "colab": {
          "base_uri": "https://localhost:8080/"
        },
        "id": "l5GfgU_kNDIt",
        "outputId": "0644747a-31dd-4007-c513-0c15ea78db17"
      },
      "source": [
        "#Loading comments\n",
        "train = pd.read_csv(\"train.csv\")\n",
        "train.columns"
      ],
      "execution_count": 7,
      "outputs": [
        {
          "output_type": "execute_result",
          "data": {
            "text/plain": [
              "Index(['id', 'comment_text', 'toxic', 'severe_toxic', 'obscene', 'threat',\n",
              "       'insult', 'identity_hate'],\n",
              "      dtype='object')"
            ]
          },
          "metadata": {
            "tags": []
          },
          "execution_count": 7
        }
      ]
    },
    {
      "cell_type": "code",
      "metadata": {
        "id": "HMgL9OEPNGa4"
      },
      "source": [
        "sentences = train[\"comment_text\"].fillna(\"DUMMY_VALUE\").values\n",
        "possible_labels = ['toxic', 'severe_toxic', 'obscene',\n",
        "                   'threat','insult', 'identity_hate']\n",
        "targets = train[possible_labels].values"
      ],
      "execution_count": 8,
      "outputs": []
    },
    {
      "cell_type": "code",
      "metadata": {
        "colab": {
          "base_uri": "https://localhost:8080/"
        },
        "id": "cXiNPdD7NNw0",
        "outputId": "c6816718-5377-4f23-a236-ef5589f4cdd0"
      },
      "source": [
        "print(\"max sequence length:\",max(len(s)for s in sentences))\n",
        "print(\"min sequence length:\",min(len(s)for s in sentences))\n",
        "s = sorted(len(s) for s in sentences)\n",
        "print(\"median sequence length:\", s[len(s)//2])"
      ],
      "execution_count": 9,
      "outputs": [
        {
          "output_type": "stream",
          "text": [
            "max sequence length: 5000\n",
            "min sequence length: 6\n",
            "median sequence length: 205\n"
          ],
          "name": "stdout"
        }
      ]
    },
    {
      "cell_type": "code",
      "metadata": {
        "id": "x3fwFl3QNIjk"
      },
      "source": [
        "tokenizer = Tokenizer(num_words = MAX_VOCAB_SIZE)\n",
        "tokenizer.fit_on_texts(sentences)\n",
        "sequences = tokenizer.texts_to_sequences(sentences)"
      ],
      "execution_count": 10,
      "outputs": []
    },
    {
      "cell_type": "code",
      "metadata": {
        "colab": {
          "base_uri": "https://localhost:8080/"
        },
        "id": "xXWzG71LNObO",
        "outputId": "ec6fa307-be73-4175-8721-f9c7c7008e8c"
      },
      "source": [
        "word2idx = tokenizer.word_index\n",
        "print(\"found %s unique tokens\" % len(word2idx))"
      ],
      "execution_count": 11,
      "outputs": [
        {
          "output_type": "stream",
          "text": [
            "found 210337 unique tokens\n"
          ],
          "name": "stdout"
        }
      ]
    },
    {
      "cell_type": "code",
      "metadata": {
        "colab": {
          "base_uri": "https://localhost:8080/"
        },
        "id": "tQ1tSlGrNQx6",
        "outputId": "cadefdb5-9b89-4930-8774-91599906bb28"
      },
      "source": [
        "data = pad_sequences(sequences, maxlen = MAX_SEQ_LENGTH)\n",
        "print(\"Shape of data tensor:\", data.shape)"
      ],
      "execution_count": 12,
      "outputs": [
        {
          "output_type": "stream",
          "text": [
            "Shape of data tensor: (159571, 100)\n"
          ],
          "name": "stdout"
        }
      ]
    },
    {
      "cell_type": "code",
      "metadata": {
        "colab": {
          "base_uri": "https://localhost:8080/"
        },
        "id": "Bo2UhHNMNTBb",
        "outputId": "01f731c8-cbef-4dae-b9a2-208c67152272"
      },
      "source": [
        "print(\"Filling pre-trained embeddings..\")\n",
        "num_words = min(MAX_VOCAB_SIZE, len(word2idx)+1)\n",
        "embedding_matrix = np.zeros((num_words, EMBEDDING_DIM))\n",
        "for word, i in word2idx.items():\n",
        "  if i < MAX_VOCAB_SIZE:\n",
        "    embedding_vector = word2vec.get(word)\n",
        "    if embedding_vector is not None:\n",
        "      embedding_matrix[i] = embedding_vector"
      ],
      "execution_count": 13,
      "outputs": [
        {
          "output_type": "stream",
          "text": [
            "Filling pre-trained embeddings..\n"
          ],
          "name": "stdout"
        }
      ]
    },
    {
      "cell_type": "code",
      "metadata": {
        "id": "sJ4PCBG-NVHr"
      },
      "source": [
        "embedding_layer = Embedding(\n",
        "    num_words,\n",
        "    EMBEDDING_DIM,\n",
        "    weights = [embedding_matrix],\n",
        "    input_length = MAX_SEQ_LENGTH,\n",
        "    trainable = False\n",
        ")"
      ],
      "execution_count": 14,
      "outputs": []
    },
    {
      "cell_type": "code",
      "metadata": {
        "id": "s8vgKEWBNi_j"
      },
      "source": [
        "# model build\n",
        "input_ = Input(shape=(MAX_SEQ_LENGTH,))\n",
        "x = embedding_layer(input_)\n",
        "x = LSTM(15, return_sequences=True)(x)\n",
        "# x = Bidirectional(LSTM(15, return_sequences=True))(x)\n",
        "x = GlobalMaxPool1D()(x)\n",
        "output = Dense(len(possible_labels), activation=\"sigmoid\")(x)\n",
        "model = Model(input_, output)\n",
        "model.compile(\n",
        "    loss = \"binary_crossentropy\",\n",
        "    optimizer = Adam(learning_rate=0.01),\n",
        "    metrics=['accuracy']\n",
        ")"
      ],
      "execution_count": 18,
      "outputs": []
    },
    {
      "cell_type": "code",
      "metadata": {
        "colab": {
          "base_uri": "https://localhost:8080/"
        },
        "id": "YYjlq8OVOo9d",
        "outputId": "e0f41d6d-7ca4-48fd-eb41-de2db94a2e40"
      },
      "source": [
        "# Training model\n",
        "r = model.fit(\n",
        "    data,\n",
        "    targets,\n",
        "    batch_size = BATCH_SIZE,\n",
        "    epochs= EPOCHS,\n",
        "    validation_split = VALIDATION_SPLIT\n",
        ")"
      ],
      "execution_count": 19,
      "outputs": [
        {
          "output_type": "stream",
          "text": [
            "Epoch 1/10\n",
            "998/998 [==============================] - 73s 55ms/step - loss: 0.1086 - accuracy: 0.8811 - val_loss: 0.0607 - val_accuracy: 0.9935\n",
            "Epoch 2/10\n",
            "998/998 [==============================] - 54s 54ms/step - loss: 0.0580 - accuracy: 0.9928 - val_loss: 0.0577 - val_accuracy: 0.9931\n",
            "Epoch 3/10\n",
            "998/998 [==============================] - 54s 54ms/step - loss: 0.0543 - accuracy: 0.9921 - val_loss: 0.0567 - val_accuracy: 0.9866\n",
            "Epoch 4/10\n",
            "998/998 [==============================] - 54s 55ms/step - loss: 0.0537 - accuracy: 0.9908 - val_loss: 0.0556 - val_accuracy: 0.9939\n",
            "Epoch 5/10\n",
            "998/998 [==============================] - 55s 55ms/step - loss: 0.0523 - accuracy: 0.9903 - val_loss: 0.0557 - val_accuracy: 0.9862\n",
            "Epoch 6/10\n",
            "998/998 [==============================] - 55s 55ms/step - loss: 0.0513 - accuracy: 0.9891 - val_loss: 0.0548 - val_accuracy: 0.9927\n",
            "Epoch 7/10\n",
            "998/998 [==============================] - 56s 56ms/step - loss: 0.0505 - accuracy: 0.9892 - val_loss: 0.0546 - val_accuracy: 0.9906\n",
            "Epoch 8/10\n",
            "998/998 [==============================] - 55s 55ms/step - loss: 0.0500 - accuracy: 0.9886 - val_loss: 0.0547 - val_accuracy: 0.9859\n",
            "Epoch 9/10\n",
            "998/998 [==============================] - 55s 55ms/step - loss: 0.0490 - accuracy: 0.9849 - val_loss: 0.0542 - val_accuracy: 0.9900\n",
            "Epoch 10/10\n",
            "998/998 [==============================] - 56s 56ms/step - loss: 0.0489 - accuracy: 0.9883 - val_loss: 0.0545 - val_accuracy: 0.9877\n"
          ],
          "name": "stdout"
        }
      ]
    },
    {
      "cell_type": "code",
      "metadata": {
        "colab": {
          "base_uri": "https://localhost:8080/",
          "height": 265
        },
        "id": "QumneMLRPNes",
        "outputId": "8711e339-4f09-49d7-cf58-fe2e02b7dcb9"
      },
      "source": [
        "plt.plot(r.history['loss'], label='loss')\n",
        "plt.plot(r.history['val_loss'], label='val_loss')\n",
        "plt.legend()\n",
        "plt.show();"
      ],
      "execution_count": 23,
      "outputs": [
        {
          "output_type": "display_data",
          "data": {
            "image/png": "[encoded data removed]",
            "text/plain": [
              "<Figure size 432x288 with 1 Axes>"
            ]
          },
          "metadata": {
            "tags": [],
            "needs_background": "light"
          }
        }
      ]
    },
    {
      "cell_type": "code",
      "metadata": {
        "colab": {
          "base_uri": "https://localhost:8080/",
          "height": 268
        },
        "id": "kAfOM1hWPPnL",
        "outputId": "8438c6e8-86c9-46ca-f7b9-0c2d333f1349"
      },
      "source": [
        "plt.plot(r.history['accuracy'], label='accuracy')\n",
        "plt.plot(r.history['val_accuracy'], label='val_acc')\n",
        "plt.legend()\n",
        "plt.show();"
      ],
      "execution_count": 24,
      "outputs": [
        {
          "output_type": "display_data",
          "data": {
            "image/png": "[encoded data removed]",
            "text/plain": [
              "<Figure size 432x288 with 1 Axes>"
            ]
          },
          "metadata": {
            "tags": [],
            "needs_background": "light"
          }
        }
      ]
    },
    {
      "cell_type": "code",
      "metadata": {
        "colab": {
          "base_uri": "https://localhost:8080/"
        },
        "id": "lMU2Ph-UPRdT",
        "outputId": "f5142585-8a8f-48a6-aa24-f9ca2c6f20d3"
      },
      "source": [
        "p = model.predict(data)\n",
        "aucs = []\n",
        "del i\n",
        "for i in range(5):\n",
        "  auc = roc_auc_score(targets[:,i], p[:,i])\n",
        "  aucs.append(auc)\n",
        "print(np.mean(aucs)) # with cnn 0.9718710715825385"
      ],
      "execution_count": 25,
      "outputs": [
        {
          "output_type": "stream",
          "text": [
            "0.977325749567729\n"
          ],
          "name": "stdout"
        }
      ]
    },
    {
      "cell_type": "code",
      "metadata": {
        "colab": {
          "base_uri": "https://localhost:8080/"
        },
        "id": "YuGOkjGePTMh",
        "outputId": "24953d76-bfd9-4ec3-e858-06a47d2e698c"
      },
      "source": [
        "def single_predict(sentence):\n",
        "  single_sequences = tokenizer.texts_to_sequences(sentence)\n",
        "  pad_input=[[j for i in single_sequences for j in i]]\n",
        "  single_data = pad_sequences(pad_input, maxlen=MAX_SEQ_LENGTH)\n",
        "  \n",
        "  p = model.predict(single_data)\n",
        "  p = list(p)\n",
        "  \n",
        "  # print(ans)\n",
        "  print(p)\n",
        "  for i in p[0]:\n",
        "    print(max([i]))\n",
        "  print('->',max(p[0]))\n",
        "single_predict(\"very good\")"
      ],
      "execution_count": 31,
      "outputs": [
        {
          "output_type": "stream",
          "text": [
            "[array([0.614254  , 0.00991625, 0.13895458, 0.01076177, 0.24343425,\n",
            "       0.02223596], dtype=float32)]\n",
            "0.614254\n",
            "0.009916246\n",
            "0.13895458\n",
            "0.010761768\n",
            "0.24343425\n",
            "0.02223596\n",
            "-> 0.614254\n"
          ],
          "name": "stdout"
        }
      ]
    },
    {
      "cell_type": "code",
      "metadata": {
        "colab": {
          "base_uri": "https://localhost:8080/"
        },
        "id": "FEe4Nu9SPU-a",
        "outputId": "57e21922-c17d-4ba5-e129-c5b85baea815"
      },
      "source": [
        "def single_predict(sentence):\n",
        "    single_sequences = tokenizer.texts_to_sequences(sentence)\n",
        "    single_data = pad_sequences(single_sequences, maxlen=MAX_SEQ_LENGTH)\n",
        "    p = model.predict(single_data)[-1]\n",
        "    lab = [\"toxic\", \"severe_toxic\", \"obscene\", \"threat\", \"insult\", \"identity_hate\"]\n",
        "    p = [i for i in p]\n",
        "    ans = lab[p.index(max(p))] if max(p) > 0.057 else \"Neutral\"\n",
        "    print(ans)\n",
        "    print(p)\n",
        "single_predict(\"i am a bad boy\")"
      ],
      "execution_count": 33,
      "outputs": [
        {
          "output_type": "stream",
          "text": [
            "toxic\n",
            "[0.058471113, 0.008530855, 0.042796314, 0.0026480258, 0.015029639, 0.0040159523]\n"
          ],
          "name": "stdout"
        }
      ]
    },
    {
      "cell_type": "code",
      "metadata": {
        "colab": {
          "base_uri": "https://localhost:8080/"
        },
        "id": "_mVK1_NsR8oM",
        "outputId": "9fd56725-714f-4593-f792-cc44016e5fa4"
      },
      "source": [
        "single_sequences = tokenizer.texts_to_sequences(\"worst behaviour\")\n",
        "single_data = pad_sequences(single_sequences, maxlen=MAX_SEQ_LENGTH)\n",
        "p = model.predict(single_data)\n",
        "print(p)"
      ],
      "execution_count": 42,
      "outputs": [
        {
          "output_type": "stream",
          "text": [
            "[[0.06282893 0.00909188 0.04507411 0.00335598 0.0151796  0.00425032]\n",
            " [0.06785446 0.00655967 0.04867917 0.00360382 0.02163118 0.00426349]\n",
            " [0.06020197 0.00880301 0.04335311 0.00326332 0.01469776 0.00394624]\n",
            " [0.06087101 0.00894237 0.04409263 0.00326809 0.01486641 0.00395572]\n",
            " [0.06021097 0.00842941 0.04274184 0.00319669 0.01423675 0.00366986]\n",
            " [0.0592339  0.00892904 0.04411271 0.00342357 0.01538831 0.00414222]\n",
            " [0.06197032 0.00905901 0.04468906 0.00324368 0.01515409 0.00399354]\n",
            " [0.05043161 0.00255609 0.02350706 0.00175557 0.00680116 0.00082347]\n",
            " [0.06085867 0.00894108 0.04408553 0.00326866 0.01486325 0.00395525]\n",
            " [0.14744139 0.00805175 0.06222677 0.00227204 0.0456987  0.00288519]\n",
            " [0.05795163 0.00843519 0.04254338 0.00318387 0.01441813 0.00387806]\n",
            " [0.04467952 0.00112566 0.01478672 0.00089061 0.00621575 0.00041583]\n",
            " [0.06785443 0.00655964 0.0486792  0.00360379 0.02163118 0.00426349]\n",
            " [0.060864   0.00894159 0.04409081 0.00326645 0.01486376 0.00395542]\n",
            " [0.06020197 0.00880301 0.04335311 0.00326332 0.01469776 0.00394624]]\n"
          ],
          "name": "stdout"
        }
      ]
    },
    {
      "cell_type": "code",
      "metadata": {
        "colab": {
          "base_uri": "https://localhost:8080/"
        },
        "id": "6VaQpem4S0Hf",
        "outputId": "4ada18f5-aee3-4923-93ed-5a325880a5a8"
      },
      "source": [
        "single_sequences = tokenizer.texts_to_sequences(\"good boy\")\n",
        "single_data = pad_sequences(single_sequences, maxlen=MAX_SEQ_LENGTH)\n",
        "p = model.predict(single_data)\n",
        "print(p)"
      ],
      "execution_count": 45,
      "outputs": [
        {
          "output_type": "stream",
          "text": [
            "[[0.13954026 0.01519978 0.07296517 0.00630221 0.03049502 0.03451106]\n",
            " [0.06785446 0.00655967 0.04867917 0.00360382 0.02163118 0.00426349]\n",
            " [0.06785446 0.00655967 0.04867917 0.00360382 0.02163118 0.00426349]\n",
            " [0.06366318 0.00486994 0.03652686 0.00144875 0.0161033  0.00197408]\n",
            " [0.0592339  0.00892904 0.04411271 0.00342357 0.01538831 0.00414222]\n",
            " [0.06197032 0.00905901 0.04468906 0.00324368 0.01515409 0.00399354]\n",
            " [0.06785449 0.00655964 0.0486792  0.00360382 0.02163118 0.00426352]\n",
            " [0.05847111 0.00853086 0.04279631 0.00264803 0.01502964 0.00401595]]\n"
          ],
          "name": "stdout"
        }
      ]
    },
    {
      "cell_type": "code",
      "metadata": {
        "id": "RwmqiGDlTuJt"
      },
      "source": [
        ""
      ],
      "execution_count": null,
      "outputs": []
    }
  ]
}