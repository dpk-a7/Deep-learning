{
  "nbformat": 4,
  "nbformat_minor": 0,
  "metadata": {
    "colab": {
      "name": "toxic_comment.ipynb",
      "provenance": [],
      "collapsed_sections": [],
      "authorship_tag": "ABX9TyOmWXodmpac5hTYVVsd0z+X",
      "include_colab_link": true
    },
    "kernelspec": {
      "name": "python3",
      "display_name": "Python 3"
    },
    "language_info": {
      "name": "python"
    }
  },
  "cells": [
    {
      "cell_type": "markdown",
      "metadata": {
        "id": "view-in-github",
        "colab_type": "text"
      },
      "source": [
        "<a href=\"https://colab.research.google.com/github/dpk-a7/Deep-learning/blob/main/toxic_comment.ipynb\" target=\"_parent\"><img src=\"https://colab.research.google.com/assets/colab-badge.svg\" alt=\"Open In Colab\"/></a>"
      ]
    },
    {
      "cell_type": "code",
      "metadata": {
        "id": "S6CD-18TM3bc",
        "colab": {
          "base_uri": "https://localhost:8080/"
        },
        "outputId": "8d9c7be8-14a9-447a-8b90-92430a763e0e"
      },
      "source": [
        "# https://www.kaggle.com/c/jigsaw-toxic-comment-classification-challenge/data\n",
        "# !kaggle competitions download -c jigsaw-toxic-comment-classification-challenge\n",
        "# !wget http://nlp.stanford.edu/data/glove.6B.zip"
      ],
      "execution_count": 10,
      "outputs": [
        {
          "output_type": "stream",
          "text": [
            "Traceback (most recent call last):\n",
            "  File \"/usr/local/bin/kaggle\", line 5, in <module>\n",
            "    from kaggle.cli import main\n",
            "  File \"/usr/local/lib/python2.7/dist-packages/kaggle/__init__.py\", line 23, in <module>\n",
            "    api.authenticate()\n",
            "  File \"/usr/local/lib/python2.7/dist-packages/kaggle/api/kaggle_api_extended.py\", line 146, in authenticate\n",
            "    self.config_file, self.config_dir))\n",
            "IOError: Could not find kaggle.json. Make sure it's located in /root/.kaggle. Or use the environment method.\n"
          ],
          "name": "stdout"
        }
      ]
    },
    {
      "cell_type": "code",
      "metadata": {
        "colab": {
          "base_uri": "https://localhost:8080/"
        },
        "id": "ItCNVhJmsPxX",
        "outputId": "bed3e9d7-d91e-4661-a75d-47badbd586ce"
      },
      "source": [
        "!pip install -q kaggle\n",
        "!pip install -q kaggle-cli\n",
        "!mkdir -p ~/.kaggle\n",
        "!cp \"kaggle.json\" ~/.kaggle/\n",
        "!cat ~/.kaggle/kaggle.json \n",
        "!chmod 600 ~/.kaggle/kaggle.json# For competition datasets\n",
        "!kaggle competitions download -c jigsaw-toxic-comment-classification-challenge"
      ],
      "execution_count": 13,
      "outputs": [
        {
          "output_type": "stream",
          "text": [
            "  Building wheel for lxml (setup.py) ... \u001b[?25lerror\n",
            "\u001b[31m  ERROR: Failed building wheel for lxml\u001b[0m\n",
            "\u001b[?25h    Running setup.py install for lxml ... \u001b[?25l\u001b[?25herror\n",
            "\u001b[31mERROR: Command errored out with exit status 1: /usr/bin/python3 -u -c 'import sys, setuptools, tokenize; sys.argv[0] = '\"'\"'/tmp/pip-install-xo0pjm22/lxml/setup.py'\"'\"'; __file__='\"'\"'/tmp/pip-install-xo0pjm22/lxml/setup.py'\"'\"';f=getattr(tokenize, '\"'\"'open'\"'\"', open)(__file__);code=f.read().replace('\"'\"'\\r\\n'\"'\"', '\"'\"'\\n'\"'\"');f.close();exec(compile(code, __file__, '\"'\"'exec'\"'\"'))' install --record /tmp/pip-record-64f0a3bi/install-record.txt --single-version-externally-managed --compile Check the logs for full command output.\u001b[0m\n",
            "{\"username\":\"deepakavudiappan\",\"key\":\"f85a7e006b065d4a782c1ab2b3ff214e\"}chmod: cannot access '/root/.kaggle/kaggle.json#': No such file or directory\n",
            "chmod: cannot access 'For': No such file or directory\n",
            "chmod: cannot access 'competition': No such file or directory\n",
            "chmod: cannot access 'datasets': No such file or directory\n",
            "Warning: Your Kaggle API key is readable by other users on this system! To fix this, you can run 'chmod 600 /root/.kaggle/kaggle.json'\n",
            "Warning: Looks like you're using an outdated API Version, please consider updating (server 1.5.12 / client 1.5.4)\n",
            "Downloading train.csv.zip to /content\n",
            "100% 26.3M/26.3M [00:00<00:00, 117MB/s]\n",
            "\n",
            "Downloading test.csv.zip to /content\n",
            " 38% 9.00M/23.4M [00:00<00:00, 59.1MB/s]\n",
            "100% 23.4M/23.4M [00:00<00:00, 92.7MB/s]\n",
            "Downloading test_labels.csv.zip to /content\n",
            "  0% 0.00/1.46M [00:00<?, ?B/s]\n",
            "100% 1.46M/1.46M [00:00<00:00, 97.5MB/s]\n",
            "Downloading sample_submission.csv.zip to /content\n",
            "  0% 0.00/1.39M [00:00<?, ?B/s]\n",
            "100% 1.39M/1.39M [00:00<00:00, 89.5MB/s]\n"
          ],
          "name": "stdout"
        }
      ]
    },
    {
      "cell_type": "code",
      "metadata": {
        "colab": {
          "base_uri": "https://localhost:8080/"
        },
        "id": "xa6C_8-xzQ4t",
        "outputId": "0dd026a9-3376-4cda-f7fb-60e18c4a1e45"
      },
      "source": [
        "# !unzip glove.6B.zip\n",
        "!unzip train.csv.zip\n",
        "!unzip test.csv.zip"
      ],
      "execution_count": 14,
      "outputs": [
        {
          "output_type": "stream",
          "text": [
            "Archive:  train.csv.zip\n",
            "  inflating: train.csv               \n",
            "Archive:  test.csv.zip\n",
            "  inflating: test.csv                \n"
          ],
          "name": "stdout"
        }
      ]
    },
    {
      "cell_type": "code",
      "metadata": {
        "id": "Q_lqdE-uM-Nw"
      },
      "source": [
        "from __future__ import print_function, division\n",
        "from builtins import range"
      ],
      "execution_count": 15,
      "outputs": []
    },
    {
      "cell_type": "code",
      "metadata": {
        "id": "Dkbo9hjip43T"
      },
      "source": [
        "import os, sys\n",
        "import numpy as np\n",
        "import pandas as pd\n",
        "import matplotlib.pyplot as plt\n",
        "from keras.preprocessing.text import Tokenizer # individual component in a sentence like(words,punctuation)\n",
        "from keras.preprocessing.sequence import pad_sequences # normalize length\n",
        "from keras.layers import Dense, Input, GlobalMaxPool1D\n",
        "from keras.layers import Conv1D, MaxPool1D, Embedding\n",
        "from keras.models import Model\n",
        "from sklearn.metrics import roc_auc_score # area under curve matric which is useful for binary classification"
      ],
      "execution_count": 16,
      "outputs": []
    },
    {
      "cell_type": "code",
      "metadata": {
        "id": "0I-J9KkSqimw"
      },
      "source": [
        "MAX_SEQ_LENGTH = 100\n",
        "MAX_VOCAB_SIZE = 20000\n",
        "EMBEDDING_DIM = 100\n",
        "VALIDATION_SPLIT = 0.2\n",
        "BATCH_SIZE = 128\n",
        "EPOCHS = 10"
      ],
      "execution_count": 17,
      "outputs": []
    },
    {
      "cell_type": "code",
      "metadata": {
        "colab": {
          "base_uri": "https://localhost:8080/"
        },
        "id": "1PzBmPvGxUn1",
        "outputId": "0607c0dd-bfd9-49e3-bd8b-6ee6df3a7fe4"
      },
      "source": [
        "#loading word vectors..\n",
        "word2vec = {} #key = word: value = vectors\n",
        "with open(os.path.join(\"glove.6B.%sd.txt\" % EMBEDDING_DIM)) as f:\n",
        "  for line in f:\n",
        "    values = line.split()\n",
        "    word = values[0]\n",
        "    vec = np.asarray(values[1:], dtype= 'float32')\n",
        "    word2vec[word] = vec\n",
        "print(\"found %s word vectors\" % len(word2vec))"
      ],
      "execution_count": 18,
      "outputs": [
        {
          "output_type": "stream",
          "text": [
            "found 400000 word vectors\n"
          ],
          "name": "stdout"
        }
      ]
    },
    {
      "cell_type": "code",
      "metadata": {
        "colab": {
          "base_uri": "https://localhost:8080/"
        },
        "id": "ymqCUPmZyDht",
        "outputId": "23d443de-6dc0-4d1b-98ac-34dbf56f7b6a"
      },
      "source": [
        "word2vec['the']"
      ],
      "execution_count": 19,
      "outputs": [
        {
          "output_type": "execute_result",
          "data": {
            "text/plain": [
              "array([-0.038194, -0.24487 ,  0.72812 , -0.39961 ,  0.083172,  0.043953,\n",
              "       -0.39141 ,  0.3344  , -0.57545 ,  0.087459,  0.28787 , -0.06731 ,\n",
              "        0.30906 , -0.26384 , -0.13231 , -0.20757 ,  0.33395 , -0.33848 ,\n",
              "       -0.31743 , -0.48336 ,  0.1464  , -0.37304 ,  0.34577 ,  0.052041,\n",
              "        0.44946 , -0.46971 ,  0.02628 , -0.54155 , -0.15518 , -0.14107 ,\n",
              "       -0.039722,  0.28277 ,  0.14393 ,  0.23464 , -0.31021 ,  0.086173,\n",
              "        0.20397 ,  0.52624 ,  0.17164 , -0.082378, -0.71787 , -0.41531 ,\n",
              "        0.20335 , -0.12763 ,  0.41367 ,  0.55187 ,  0.57908 , -0.33477 ,\n",
              "       -0.36559 , -0.54857 , -0.062892,  0.26584 ,  0.30205 ,  0.99775 ,\n",
              "       -0.80481 , -3.0243  ,  0.01254 , -0.36942 ,  2.2167  ,  0.72201 ,\n",
              "       -0.24978 ,  0.92136 ,  0.034514,  0.46745 ,  1.1079  , -0.19358 ,\n",
              "       -0.074575,  0.23353 , -0.052062, -0.22044 ,  0.057162, -0.15806 ,\n",
              "       -0.30798 , -0.41625 ,  0.37972 ,  0.15006 , -0.53212 , -0.2055  ,\n",
              "       -1.2526  ,  0.071624,  0.70565 ,  0.49744 , -0.42063 ,  0.26148 ,\n",
              "       -1.538   , -0.30223 , -0.073438, -0.28312 ,  0.37104 , -0.25217 ,\n",
              "        0.016215, -0.017099, -0.38984 ,  0.87424 , -0.72569 , -0.51058 ,\n",
              "       -0.52028 , -0.1459  ,  0.8278  ,  0.27062 ], dtype=float32)"
            ]
          },
          "metadata": {
            "tags": []
          },
          "execution_count": 19
        }
      ]
    },
    {
      "cell_type": "code",
      "metadata": {
        "colab": {
          "base_uri": "https://localhost:8080/"
        },
        "id": "Z0DFbCIKyz5B",
        "outputId": "d39634ea-bdcd-4684-fb37-1d516513d660"
      },
      "source": [
        "#Loading comments\n",
        "train = pd.read_csv(\"train.csv\")\n",
        "train.columns"
      ],
      "execution_count": 21,
      "outputs": [
        {
          "output_type": "execute_result",
          "data": {
            "text/plain": [
              "Index(['id', 'comment_text', 'toxic', 'severe_toxic', 'obscene', 'threat',\n",
              "       'insult', 'identity_hate'],\n",
              "      dtype='object')"
            ]
          },
          "metadata": {
            "tags": []
          },
          "execution_count": 21
        }
      ]
    },
    {
      "cell_type": "code",
      "metadata": {
        "id": "gUs--l-Czhgu"
      },
      "source": [
        "sentences = train[\"comment_text\"].fillna(\"DUMMY_VALUE\").values\n",
        "possible_labels = ['toxic', 'severe_toxic', 'obscene',\n",
        "                   'threat','insult', 'identity_hate']\n",
        "targets = train[possible_labels].values"
      ],
      "execution_count": 22,
      "outputs": []
    },
    {
      "cell_type": "code",
      "metadata": {
        "colab": {
          "base_uri": "https://localhost:8080/"
        },
        "id": "DWGujo5A0G5Y",
        "outputId": "bedb13d7-21ce-40eb-d26c-fbb9a8c0b36a"
      },
      "source": [
        "print(\"max sequence length:\",max(len(s)for s in sentences))\n",
        "print(\"min sequence length:\",min(len(s)for s in sentences))\n",
        "s = sorted(len(s) for s in sentences)\n",
        "print(\"median sequence length:\", s[len(s)//2]) "
      ],
      "execution_count": 23,
      "outputs": [
        {
          "output_type": "stream",
          "text": [
            "max sequence length: 5000\n",
            "min sequence length: 6\n",
            "median sequence length: 205\n"
          ],
          "name": "stdout"
        }
      ]
    },
    {
      "cell_type": "code",
      "metadata": {
        "id": "l_cSdzbz0kHc"
      },
      "source": [
        "tokenizer = Tokenizer(num_words = MAX_VOCAB_SIZE)\n",
        "tokenizer.fit_on_texts(sentences)\n",
        "sequences = tokenizer.texts_to_sequences(sentences)"
      ],
      "execution_count": 24,
      "outputs": []
    },
    {
      "cell_type": "code",
      "metadata": {
        "colab": {
          "base_uri": "https://localhost:8080/"
        },
        "id": "ds6i9-S86EH9",
        "outputId": "857b5adf-76d9-4921-9587-e0821284dea4"
      },
      "source": [
        "word2idx = tokenizer.word_index\n",
        "print(\"found %s unique tokens\" % len(word2idx))"
      ],
      "execution_count": 25,
      "outputs": [
        {
          "output_type": "stream",
          "text": [
            "found 210337 unique tokens\n"
          ],
          "name": "stdout"
        }
      ]
    },
    {
      "cell_type": "code",
      "metadata": {
        "colab": {
          "base_uri": "https://localhost:8080/"
        },
        "id": "ewS2_Wfu6QKK",
        "outputId": "615e9420-f88d-4d73-8a90-23c6728f3513"
      },
      "source": [
        "data = pad_sequences(sequences, maxlen = MAX_SEQ_LENGTH)\n",
        "print(\"Shape of data tensor:\", data.shape)"
      ],
      "execution_count": 26,
      "outputs": [
        {
          "output_type": "stream",
          "text": [
            "Shape of data tensor: (159571, 100)\n"
          ],
          "name": "stdout"
        }
      ]
    },
    {
      "cell_type": "code",
      "metadata": {
        "id": "JbluQ4cfVaip",
        "colab": {
          "base_uri": "https://localhost:8080/"
        },
        "outputId": "a186468e-0af1-4062-dae5-b9a5605476d3"
      },
      "source": [
        "print(\"Filling pre-trained embeddings..\")\n",
        "num_words = min(MAX_VOCAB_SIZE, len(word2idx)+1)\n",
        "embedding_matrix = np.zeros((num_words, EMBEDDING_DIM))\n",
        "for word, i in word2idx.items():\n",
        "  if i < MAX_VOCAB_SIZE:\n",
        "    embedding_vector = word2vec.get(word)\n",
        "    if embedding_vector is not None:\n",
        "      embedding_matrix[i] = embedding_vector"
      ],
      "execution_count": 28,
      "outputs": [
        {
          "output_type": "stream",
          "text": [
            "Filling pre-trained embeddings..\n"
          ],
          "name": "stdout"
        }
      ]
    },
    {
      "cell_type": "code",
      "metadata": {
        "id": "cFsvhtTrE9bZ"
      },
      "source": [
        "embedding_layer = Embedding(\n",
        "    num_words,\n",
        "    EMBEDDING_DIM,\n",
        "    weights = [embedding_matrix],\n",
        "    input_length = MAX_SEQ_LENGTH,\n",
        "    trainable = False\n",
        ")"
      ],
      "execution_count": 31,
      "outputs": []
    },
    {
      "cell_type": "code",
      "metadata": {
        "id": "XpdvYqPfGWBx"
      },
      "source": [
        "input_ = Input(shape=(MAX_SEQ_LENGTH,))\n",
        "x = embedding_layer(input_)\n",
        "x = Conv1D(128,3,activation = 'relu')(x)\n",
        "x = MaxPool1D(3)(x)\n",
        "x = Conv1D(128,3,activation = 'relu')(x)\n",
        "x = MaxPool1D(3)(x)\n",
        "x = Conv1D(128,3,activation = 'relu')(x)\n",
        "x = GlobalMaxPool1D()(x)\n",
        "x = Dense(128, activation='relu')(x)\n",
        "output = Dense(len(possible_labels), activation=\"sigmoid\")(x)\n",
        "\n",
        "model = Model(input_, output)\n",
        "model.compile(\n",
        "    loss = 'binary_crossentropy',\n",
        "    optimizer = 'rmsprop',\n",
        "    metrics = ['accuracy']\n",
        ")"
      ],
      "execution_count": 34,
      "outputs": []
    },
    {
      "cell_type": "code",
      "metadata": {
        "colab": {
          "base_uri": "https://localhost:8080/"
        },
        "id": "1tRlpljVG-5x",
        "outputId": "5ff5c4e2-bdf7-481c-9017-fed6cef26a31"
      },
      "source": [
        "history = model.fit(\n",
        "    data,\n",
        "    targets,\n",
        "    batch_size = BATCH_SIZE,\n",
        "    epochs= EPOCHS,\n",
        "    validation_split= VALIDATION_SPLIT\n",
        ")"
      ],
      "execution_count": 35,
      "outputs": [
        {
          "output_type": "stream",
          "text": [
            "Epoch 1/10\n",
            "998/998 [==============================] - 128s 112ms/step - loss: 0.1065 - accuracy: 0.9533 - val_loss: 0.0720 - val_accuracy: 0.9941\n",
            "Epoch 2/10\n",
            "998/998 [==============================] - 113s 113ms/step - loss: 0.0687 - accuracy: 0.9924 - val_loss: 0.0676 - val_accuracy: 0.9941\n",
            "Epoch 3/10\n",
            "998/998 [==============================] - 112s 113ms/step - loss: 0.0619 - accuracy: 0.9930 - val_loss: 0.0689 - val_accuracy: 0.9929\n",
            "Epoch 4/10\n",
            "998/998 [==============================] - 111s 111ms/step - loss: 0.0600 - accuracy: 0.9930 - val_loss: 0.0665 - val_accuracy: 0.9937\n",
            "Epoch 5/10\n",
            "998/998 [==============================] - 113s 113ms/step - loss: 0.0569 - accuracy: 0.9932 - val_loss: 0.0909 - val_accuracy: 0.9930\n",
            "Epoch 6/10\n",
            "998/998 [==============================] - 111s 111ms/step - loss: 0.0545 - accuracy: 0.9937 - val_loss: 0.0814 - val_accuracy: 0.9936\n",
            "Epoch 7/10\n",
            "998/998 [==============================] - 111s 111ms/step - loss: 0.0539 - accuracy: 0.9932 - val_loss: 0.0804 - val_accuracy: 0.9941\n",
            "Epoch 8/10\n",
            "998/998 [==============================] - 112s 112ms/step - loss: 0.0517 - accuracy: 0.9940 - val_loss: 0.0773 - val_accuracy: 0.9931\n",
            "Epoch 9/10\n",
            "998/998 [==============================] - 110s 111ms/step - loss: 0.0506 - accuracy: 0.9930 - val_loss: 0.0970 - val_accuracy: 0.9922\n",
            "Epoch 10/10\n",
            "998/998 [==============================] - 110s 111ms/step - loss: 0.0485 - accuracy: 0.9935 - val_loss: 0.1002 - val_accuracy: 0.9941\n"
          ],
          "name": "stdout"
        }
      ]
    },
    {
      "cell_type": "code",
      "metadata": {
        "colab": {
          "base_uri": "https://localhost:8080/",
          "height": 265
        },
        "id": "WlpCo-jXICG0",
        "outputId": "2b6f7521-3182-4a18-9eb5-49cfe37c8fb7"
      },
      "source": [
        "plt.plot(history.history['loss'], label='loss')\n",
        "plt.plot(history.history['val_loss'], label='val_loss')\n",
        "plt.legend()\n",
        "plt.show();"
      ],
      "execution_count": 36,
      "outputs": [
        {
          "output_type": "display_data",
          "data": {
            "image/png": "[encoded data removed]",
            "text/plain": [
              "<Figure size 432x288 with 1 Axes>"
            ]
          },
          "metadata": {
            "tags": [],
            "needs_background": "light"
          }
        }
      ]
    },
    {
      "cell_type": "code",
      "metadata": {
        "colab": {
          "base_uri": "https://localhost:8080/",
          "height": 265
        },
        "id": "d9ilp33UIT0U",
        "outputId": "aa901a98-c66c-4f83-ebd4-585413d10d5c"
      },
      "source": [
        "plt.plot(history.history['accuracy'], label='accuracy')\n",
        "plt.plot(history.history['val_accuracy'], label='val_acc')\n",
        "plt.legend()\n",
        "plt.show();"
      ],
      "execution_count": 40,
      "outputs": [
        {
          "output_type": "display_data",
          "data": {
            "image/png": "[encoded data removed]",
            "text/plain": [
              "<Figure size 432x288 with 1 Axes>"
            ]
          },
          "metadata": {
            "tags": [],
            "needs_background": "light"
          }
        }
      ]
    },
    {
      "cell_type": "code",
      "metadata": {
        "colab": {
          "base_uri": "https://localhost:8080/"
        },
        "id": "bSprMUk4IZS-",
        "outputId": "1ffcaa01-18cc-4773-ac6f-aa1f52f25d45"
      },
      "source": [
        "p = model.predict(data)\n",
        "aucs = []\n",
        "del i\n",
        "for i in range(5):\n",
        "  auc = roc_auc_score(targets[:,i], p[:,i])\n",
        "  aucs.append(auc)\n",
        "print(np.mean(aucs))"
      ],
      "execution_count": 38,
      "outputs": [
        {
          "output_type": "stream",
          "text": [
            "0.9761961465346959\n"
          ],
          "name": "stdout"
        }
      ]
    },
    {
      "cell_type": "code",
      "metadata": {
        "id": "B-GTbsAGNId7"
      },
      "source": [
        ""
      ],
      "execution_count": null,
      "outputs": []
    }
  ]
}