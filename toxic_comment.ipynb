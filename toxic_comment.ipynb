{
  "nbformat": 4,
  "nbformat_minor": 0,
  "metadata": {
    "colab": {
      "name": "toxic_comment.ipynb",
      "provenance": [],
      "collapsed_sections": [],
      "authorship_tag": "ABX9TyPAaIRgN4hhcpo5fU5H2dUY",
      "include_colab_link": true
    },
    "kernelspec": {
      "name": "python3",
      "display_name": "Python 3"
    },
    "language_info": {
      "name": "python"
    }
  },
  "cells": [
    {
      "cell_type": "markdown",
      "metadata": {
        "id": "view-in-github",
        "colab_type": "text"
      },
      "source": [
        "<a href=\"https://colab.research.google.com/github/dpk-a7/Deep-learning/blob/main/toxic_comment.ipynb\" target=\"_parent\"><img src=\"https://colab.research.google.com/assets/colab-badge.svg\" alt=\"Open In Colab\"/></a>"
      ]
    },
    {
      "cell_type": "code",
      "metadata": {
        "id": "S6CD-18TM3bc",
        "colab": {
          "base_uri": "https://localhost:8080/"
        },
        "outputId": "d6dff48f-a5dd-49d2-c98f-1209d9e589cc"
      },
      "source": [
        "# https://www.kaggle.com/c/jigsaw-toxic-comment-classification-challenge/data\n",
        "# !kaggle competitions download -c jigsaw-toxic-comment-classification-challenge\n",
        "!wget http://nlp.stanford.edu/data/glove.6B.zip"
      ],
      "execution_count": 12,
      "outputs": [
        {
          "output_type": "stream",
          "text": [
            "--2021-07-09 16:26:34--  http://nlp.stanford.edu/data/glove.6B.zip\n",
            "Resolving nlp.stanford.edu (nlp.stanford.edu)... 171.64.67.140\n",
            "Connecting to nlp.stanford.edu (nlp.stanford.edu)|171.64.67.140|:80... connected.\n",
            "HTTP request sent, awaiting response... 302 Found\n",
            "Location: https://nlp.stanford.edu/data/glove.6B.zip [following]\n",
            "--2021-07-09 16:26:35--  https://nlp.stanford.edu/data/glove.6B.zip\n",
            "Connecting to nlp.stanford.edu (nlp.stanford.edu)|171.64.67.140|:443... connected.\n",
            "HTTP request sent, awaiting response... 301 Moved Permanently\n",
            "Location: http://downloads.cs.stanford.edu/nlp/data/glove.6B.zip [following]\n",
            "--2021-07-09 16:26:35--  http://downloads.cs.stanford.edu/nlp/data/glove.6B.zip\n",
            "Resolving downloads.cs.stanford.edu (downloads.cs.stanford.edu)... 171.64.64.22\n",
            "Connecting to downloads.cs.stanford.edu (downloads.cs.stanford.edu)|171.64.64.22|:80... connected.\n",
            "HTTP request sent, awaiting response... 200 OK\n",
            "Length: 862182613 (822M) [application/zip]\n",
            "Saving to: ‘glove.6B.zip’\n",
            "\n",
            "glove.6B.zip        100%[===================>] 822.24M  5.08MB/s    in 2m 40s  \n",
            "\n",
            "2021-07-09 16:29:16 (5.12 MB/s) - ‘glove.6B.zip’ saved [862182613/862182613]\n",
            "\n"
          ],
          "name": "stdout"
        }
      ]
    },
    {
      "cell_type": "code",
      "metadata": {
        "colab": {
          "base_uri": "https://localhost:8080/"
        },
        "id": "ItCNVhJmsPxX",
        "outputId": "f1a4c38f-8d1b-4905-d833-4e32be1493cd"
      },
      "source": [
        "!pip install -q kaggle\n",
        "!pip install -q kaggle-cli\n",
        "!mkdir -p ~/.kaggle\n",
        "!cp \"kaggle.json\" ~/.kaggle/\n",
        "!cat ~/.kaggle/kaggle.json \n",
        "!chmod 600 ~/.kaggle/kaggle.json# For competition datasets\n",
        "!kaggle competitions download -c jigsaw-toxic-comment-classification-challenge"
      ],
      "execution_count": 2,
      "outputs": [
        {
          "output_type": "stream",
          "text": [
            "\u001b[K     |████████████████████████████████| 81kB 2.7MB/s \n",
            "\u001b[K     |████████████████████████████████| 4.2MB 5.1MB/s \n",
            "\u001b[K     |████████████████████████████████| 143kB 27.2MB/s \n",
            "\u001b[K     |████████████████████████████████| 112kB 28.6MB/s \n",
            "\u001b[K     |████████████████████████████████| 51kB 4.9MB/s \n",
            "\u001b[?25h  Building wheel for kaggle-cli (setup.py) ... \u001b[?25l\u001b[?25hdone\n",
            "  Building wheel for lxml (setup.py) ... \u001b[?25lerror\n",
            "\u001b[31m  ERROR: Failed building wheel for lxml\u001b[0m\n",
            "\u001b[?25h  Building wheel for PrettyTable (setup.py) ... \u001b[?25l\u001b[?25hdone\n",
            "  Building wheel for pyperclip (setup.py) ... \u001b[?25l\u001b[?25hdone\n",
            "    Running setup.py install for lxml ... \u001b[?25l\u001b[?25herror\n",
            "\u001b[31mERROR: Command errored out with exit status 1: /usr/bin/python3 -u -c 'import sys, setuptools, tokenize; sys.argv[0] = '\"'\"'/tmp/pip-install-ho15b_68/lxml/setup.py'\"'\"'; __file__='\"'\"'/tmp/pip-install-ho15b_68/lxml/setup.py'\"'\"';f=getattr(tokenize, '\"'\"'open'\"'\"', open)(__file__);code=f.read().replace('\"'\"'\\r\\n'\"'\"', '\"'\"'\\n'\"'\"');f.close();exec(compile(code, __file__, '\"'\"'exec'\"'\"'))' install --record /tmp/pip-record-oxb7r8ck/install-record.txt --single-version-externally-managed --compile Check the logs for full command output.\u001b[0m\n",
            "{\"username\":\"deepakavudiappan\",\"key\":\"f85a7e006b065d4a782c1ab2b3ff214e\"}chmod: cannot access '/root/.kaggle/kaggle.json#': No such file or directory\n",
            "chmod: cannot access 'For': No such file or directory\n",
            "chmod: cannot access 'competition': No such file or directory\n",
            "chmod: cannot access 'datasets': No such file or directory\n",
            "Warning: Your Kaggle API key is readable by other users on this system! To fix this, you can run 'chmod 600 /root/.kaggle/kaggle.json'\n",
            "Warning: Looks like you're using an outdated API Version, please consider updating (server 1.5.12 / client 1.5.4)\n",
            "Downloading test_labels.csv.zip to /content\n",
            "  0% 0.00/1.46M [00:00<?, ?B/s]\n",
            "100% 1.46M/1.46M [00:00<00:00, 48.8MB/s]\n",
            "Downloading train.csv.zip to /content\n",
            " 34% 9.00M/26.3M [00:00<00:00, 87.3MB/s]\n",
            "100% 26.3M/26.3M [00:00<00:00, 128MB/s] \n",
            "Downloading test.csv.zip to /content\n",
            " 34% 8.00M/23.4M [00:00<00:00, 83.4MB/s]\n",
            "100% 23.4M/23.4M [00:00<00:00, 115MB/s] \n",
            "Downloading sample_submission.csv.zip to /content\n",
            "  0% 0.00/1.39M [00:00<?, ?B/s]\n",
            "100% 1.39M/1.39M [00:00<00:00, 93.4MB/s]\n"
          ],
          "name": "stdout"
        }
      ]
    },
    {
      "cell_type": "code",
      "metadata": {
        "colab": {
          "base_uri": "https://localhost:8080/"
        },
        "id": "xa6C_8-xzQ4t",
        "outputId": "cd584e06-ef1d-47d5-a7da-69522a31a425"
      },
      "source": [
        "!unzip glove.6B.zip\n",
        "# !unzip train.csv.zip\n",
        "# !unzip test.csv.zip"
      ],
      "execution_count": 13,
      "outputs": [
        {
          "output_type": "stream",
          "text": [
            "Archive:  glove.6B.zip\n",
            "  inflating: glove.6B.50d.txt        \n",
            "  inflating: glove.6B.100d.txt       \n",
            "  inflating: glove.6B.200d.txt       \n",
            "  inflating: glove.6B.300d.txt       \n"
          ],
          "name": "stdout"
        }
      ]
    },
    {
      "cell_type": "code",
      "metadata": {
        "id": "Q_lqdE-uM-Nw"
      },
      "source": [
        "from __future__ import print_function, division\n",
        "from builtins import range"
      ],
      "execution_count": 14,
      "outputs": []
    },
    {
      "cell_type": "code",
      "metadata": {
        "id": "Dkbo9hjip43T"
      },
      "source": [
        "import os, sys\n",
        "import numpy as np\n",
        "import pandas as pd\n",
        "import matplotlib.pyplot as plt\n",
        "from keras.preprocessing.text import Tokenizer # individual component in a sentence like(words,punctuation)\n",
        "from keras.preprocessing.sequence import pad_sequences # normalize length\n",
        "from keras.layers import Dense, Input, GlobalMaxPool1D\n",
        "from keras.layers import Conv1D, MaxPool1D, Embedding\n",
        "from keras.models import Model\n",
        "from sklearn.metrics import roc_auc_score # area under curve matric which is useful for binary classification"
      ],
      "execution_count": 15,
      "outputs": []
    },
    {
      "cell_type": "code",
      "metadata": {
        "id": "0I-J9KkSqimw"
      },
      "source": [
        "MAX_SEQ_LENGTH = 100\n",
        "MAX_VOCAB_SIZE = 20000\n",
        "EMBEDDING_DIM = 100\n",
        "VALIDATION_SPLIT = 0.2\n",
        "BATCH_SIZE = 128\n",
        "EPOCHS = 10"
      ],
      "execution_count": 16,
      "outputs": []
    },
    {
      "cell_type": "code",
      "metadata": {
        "colab": {
          "base_uri": "https://localhost:8080/"
        },
        "id": "1PzBmPvGxUn1",
        "outputId": "b7a3f22c-cec3-4b38-8490-cf38996d3e58"
      },
      "source": [
        "#loading word vectors..\n",
        "word2vec = {} #key = word: value = vectors\n",
        "with open(os.path.join(\"glove.6B.%sd.txt\" % EMBEDDING_DIM)) as f:\n",
        "  for line in f:\n",
        "    values = line.split()\n",
        "    word = values[0]\n",
        "    vec = np.asarray(values[1:], dtype= 'float32')\n",
        "    word2vec[word] = vec\n",
        "print(\"found %s word vectors\" % len(word2vec))"
      ],
      "execution_count": 17,
      "outputs": [
        {
          "output_type": "stream",
          "text": [
            "found 400000 word vectors\n"
          ],
          "name": "stdout"
        }
      ]
    },
    {
      "cell_type": "code",
      "metadata": {
        "colab": {
          "base_uri": "https://localhost:8080/"
        },
        "id": "ymqCUPmZyDht",
        "outputId": "5b93ebe1-0073-4c06-dc47-174dde492fee"
      },
      "source": [
        "word2vec['the']"
      ],
      "execution_count": 18,
      "outputs": [
        {
          "output_type": "execute_result",
          "data": {
            "text/plain": [
              "array([-0.038194, -0.24487 ,  0.72812 , -0.39961 ,  0.083172,  0.043953,\n",
              "       -0.39141 ,  0.3344  , -0.57545 ,  0.087459,  0.28787 , -0.06731 ,\n",
              "        0.30906 , -0.26384 , -0.13231 , -0.20757 ,  0.33395 , -0.33848 ,\n",
              "       -0.31743 , -0.48336 ,  0.1464  , -0.37304 ,  0.34577 ,  0.052041,\n",
              "        0.44946 , -0.46971 ,  0.02628 , -0.54155 , -0.15518 , -0.14107 ,\n",
              "       -0.039722,  0.28277 ,  0.14393 ,  0.23464 , -0.31021 ,  0.086173,\n",
              "        0.20397 ,  0.52624 ,  0.17164 , -0.082378, -0.71787 , -0.41531 ,\n",
              "        0.20335 , -0.12763 ,  0.41367 ,  0.55187 ,  0.57908 , -0.33477 ,\n",
              "       -0.36559 , -0.54857 , -0.062892,  0.26584 ,  0.30205 ,  0.99775 ,\n",
              "       -0.80481 , -3.0243  ,  0.01254 , -0.36942 ,  2.2167  ,  0.72201 ,\n",
              "       -0.24978 ,  0.92136 ,  0.034514,  0.46745 ,  1.1079  , -0.19358 ,\n",
              "       -0.074575,  0.23353 , -0.052062, -0.22044 ,  0.057162, -0.15806 ,\n",
              "       -0.30798 , -0.41625 ,  0.37972 ,  0.15006 , -0.53212 , -0.2055  ,\n",
              "       -1.2526  ,  0.071624,  0.70565 ,  0.49744 , -0.42063 ,  0.26148 ,\n",
              "       -1.538   , -0.30223 , -0.073438, -0.28312 ,  0.37104 , -0.25217 ,\n",
              "        0.016215, -0.017099, -0.38984 ,  0.87424 , -0.72569 , -0.51058 ,\n",
              "       -0.52028 , -0.1459  ,  0.8278  ,  0.27062 ], dtype=float32)"
            ]
          },
          "metadata": {
            "tags": []
          },
          "execution_count": 18
        }
      ]
    },
    {
      "cell_type": "code",
      "metadata": {
        "colab": {
          "base_uri": "https://localhost:8080/"
        },
        "id": "Z0DFbCIKyz5B",
        "outputId": "87334264-7ce9-4da0-e6af-1164ba560662"
      },
      "source": [
        "#Loading comments\n",
        "train = pd.read_csv(\"train.csv\")\n",
        "train.columns"
      ],
      "execution_count": 19,
      "outputs": [
        {
          "output_type": "execute_result",
          "data": {
            "text/plain": [
              "Index(['id', 'comment_text', 'toxic', 'severe_toxic', 'obscene', 'threat',\n",
              "       'insult', 'identity_hate'],\n",
              "      dtype='object')"
            ]
          },
          "metadata": {
            "tags": []
          },
          "execution_count": 19
        }
      ]
    },
    {
      "cell_type": "code",
      "metadata": {
        "id": "gUs--l-Czhgu"
      },
      "source": [
        "sentences = train[\"comment_text\"].fillna(\"DUMMY_VALUE\").values\n",
        "possible_labels = ['toxic', 'severe_toxic', 'obscene',\n",
        "                   'threat','insult', 'identity_hate']\n",
        "targets = train[possible_labels].values"
      ],
      "execution_count": 20,
      "outputs": []
    },
    {
      "cell_type": "code",
      "metadata": {
        "colab": {
          "base_uri": "https://localhost:8080/"
        },
        "id": "DWGujo5A0G5Y",
        "outputId": "f24b856d-fbcd-4fb3-9bad-571dd42766ad"
      },
      "source": [
        "print(\"max sequence length:\",max(len(s)for s in sentences))\n",
        "print(\"min sequence length:\",min(len(s)for s in sentences))\n",
        "s = sorted(len(s) for s in sentences)\n",
        "print(\"median sequence length:\", s[len(s)//2]) "
      ],
      "execution_count": 21,
      "outputs": [
        {
          "output_type": "stream",
          "text": [
            "max sequence length: 5000\n",
            "min sequence length: 6\n",
            "median sequence length: 205\n"
          ],
          "name": "stdout"
        }
      ]
    },
    {
      "cell_type": "code",
      "metadata": {
        "id": "rYh3Ec0wJALL"
      },
      "source": [
        ""
      ],
      "execution_count": null,
      "outputs": []
    },
    {
      "cell_type": "code",
      "metadata": {
        "id": "l_cSdzbz0kHc"
      },
      "source": [
        "tokenizer = Tokenizer(num_words = MAX_VOCAB_SIZE)\n",
        "tokenizer.fit_on_texts(sentences)\n",
        "sequences = tokenizer.texts_to_sequences(sentences)"
      ],
      "execution_count": 22,
      "outputs": []
    },
    {
      "cell_type": "code",
      "metadata": {
        "colab": {
          "base_uri": "https://localhost:8080/"
        },
        "id": "ds6i9-S86EH9",
        "outputId": "732d9d08-9b44-4ca6-d8bc-9dafa1ea7a24"
      },
      "source": [
        "word2idx = tokenizer.word_index\n",
        "print(\"found %s unique tokens\" % len(word2idx))"
      ],
      "execution_count": 23,
      "outputs": [
        {
          "output_type": "stream",
          "text": [
            "found 210337 unique tokens\n"
          ],
          "name": "stdout"
        }
      ]
    },
    {
      "cell_type": "code",
      "metadata": {
        "colab": {
          "base_uri": "https://localhost:8080/"
        },
        "id": "ewS2_Wfu6QKK",
        "outputId": "07f6a2e2-7ece-4351-d73a-886212d1acfe"
      },
      "source": [
        "data = pad_sequences(sequences, maxlen = MAX_SEQ_LENGTH)\n",
        "print(\"Shape of data tensor:\", data.shape)"
      ],
      "execution_count": 24,
      "outputs": [
        {
          "output_type": "stream",
          "text": [
            "Shape of data tensor: (159571, 100)\n"
          ],
          "name": "stdout"
        }
      ]
    },
    {
      "cell_type": "code",
      "metadata": {
        "id": "JbluQ4cfVaip",
        "colab": {
          "base_uri": "https://localhost:8080/"
        },
        "outputId": "b9fecfbe-b138-400b-f025-53fc7acb56ac"
      },
      "source": [
        "print(\"Filling pre-trained embeddings..\")\n",
        "num_words = min(MAX_VOCAB_SIZE, len(word2idx)+1)\n",
        "embedding_matrix = np.zeros((num_words, EMBEDDING_DIM))\n",
        "for word, i in word2idx.items():\n",
        "  if i < MAX_VOCAB_SIZE:\n",
        "    embedding_vector = word2vec.get(word)\n",
        "    if embedding_vector is not None:\n",
        "      embedding_matrix[i] = embedding_vector"
      ],
      "execution_count": 25,
      "outputs": [
        {
          "output_type": "stream",
          "text": [
            "Filling pre-trained embeddings..\n"
          ],
          "name": "stdout"
        }
      ]
    },
    {
      "cell_type": "code",
      "metadata": {
        "id": "cFsvhtTrE9bZ"
      },
      "source": [
        "embedding_layer = Embedding(\n",
        "    num_words,\n",
        "    EMBEDDING_DIM,\n",
        "    weights = [embedding_matrix],\n",
        "    input_length = MAX_SEQ_LENGTH,\n",
        "    trainable = False\n",
        ")"
      ],
      "execution_count": 26,
      "outputs": []
    },
    {
      "cell_type": "code",
      "metadata": {
        "id": "XpdvYqPfGWBx"
      },
      "source": [
        "input_ = Input(shape=(MAX_SEQ_LENGTH,))\n",
        "x = embedding_layer(input_)\n",
        "x = Conv1D(128,3,activation = 'relu')(x)\n",
        "x = MaxPool1D(3)(x)\n",
        "x = Conv1D(128,3,activation = 'relu')(x)\n",
        "x = MaxPool1D(3)(x)\n",
        "x = Conv1D(128,3,activation = 'relu')(x)\n",
        "x = GlobalMaxPool1D()(x)\n",
        "x = Dense(128, activation='relu')(x)\n",
        "output = Dense(len(possible_labels), activation=\"sigmoid\")(x)\n",
        "\n",
        "model = Model(input_, output)\n",
        "model.compile(\n",
        "    loss = 'binary_crossentropy',\n",
        "    optimizer = 'rmsprop',\n",
        "    metrics = ['accuracy']\n",
        ")"
      ],
      "execution_count": 27,
      "outputs": []
    },
    {
      "cell_type": "code",
      "metadata": {
        "colab": {
          "base_uri": "https://localhost:8080/"
        },
        "id": "1tRlpljVG-5x",
        "outputId": "49749a71-3f07-48e2-b6b4-01a6862fd0d8"
      },
      "source": [
        "history = model.fit(\n",
        "    data,\n",
        "    targets,\n",
        "    batch_size = BATCH_SIZE,\n",
        "    epochs= EPOCHS,\n",
        "    validation_split= VALIDATION_SPLIT\n",
        ")"
      ],
      "execution_count": 28,
      "outputs": [
        {
          "output_type": "stream",
          "text": [
            "Epoch 1/10\n",
            "998/998 [==============================] - 127s 111ms/step - loss: 0.1052 - accuracy: 0.9360 - val_loss: 0.0705 - val_accuracy: 0.9509\n",
            "Epoch 2/10\n",
            "998/998 [==============================] - 111s 111ms/step - loss: 0.0672 - accuracy: 0.9928 - val_loss: 0.0716 - val_accuracy: 0.9939\n",
            "Epoch 3/10\n",
            "998/998 [==============================] - 110s 110ms/step - loss: 0.0633 - accuracy: 0.9933 - val_loss: 0.0680 - val_accuracy: 0.9928\n",
            "Epoch 4/10\n",
            "998/998 [==============================] - 110s 111ms/step - loss: 0.0612 - accuracy: 0.9931 - val_loss: 0.0710 - val_accuracy: 0.9941\n",
            "Epoch 5/10\n",
            "998/998 [==============================] - 111s 111ms/step - loss: 0.0584 - accuracy: 0.9932 - val_loss: 0.0836 - val_accuracy: 0.9930\n",
            "Epoch 6/10\n",
            "998/998 [==============================] - 110s 110ms/step - loss: 0.0549 - accuracy: 0.9939 - val_loss: 0.0799 - val_accuracy: 0.9930\n",
            "Epoch 7/10\n",
            "998/998 [==============================] - 109s 110ms/step - loss: 0.0534 - accuracy: 0.9936 - val_loss: 0.0835 - val_accuracy: 0.9904\n",
            "Epoch 8/10\n",
            "998/998 [==============================] - 110s 110ms/step - loss: 0.0530 - accuracy: 0.9931 - val_loss: 0.0878 - val_accuracy: 0.9939\n",
            "Epoch 9/10\n",
            "998/998 [==============================] - 109s 109ms/step - loss: 0.0517 - accuracy: 0.9939 - val_loss: 0.0865 - val_accuracy: 0.9934\n",
            "Epoch 10/10\n",
            "998/998 [==============================] - 109s 109ms/step - loss: 0.0500 - accuracy: 0.9935 - val_loss: 0.0927 - val_accuracy: 0.9937\n"
          ],
          "name": "stdout"
        }
      ]
    },
    {
      "cell_type": "code",
      "metadata": {
        "colab": {
          "base_uri": "https://localhost:8080/",
          "height": 265
        },
        "id": "WlpCo-jXICG0",
        "outputId": "c3771a3a-5d4c-41ed-b49f-df3d2d306d43"
      },
      "source": [
        "plt.plot(history.history['loss'], label='loss')\n",
        "plt.plot(history.history['val_loss'], label='val_loss')\n",
        "plt.legend()\n",
        "plt.show();"
      ],
      "execution_count": 29,
      "outputs": [
        {
          "output_type": "display_data",
          "data": {
            "image/png": "[encoded data removed]",
            "text/plain": [
              "<Figure size 432x288 with 1 Axes>"
            ]
          },
          "metadata": {
            "tags": [],
            "needs_background": "light"
          }
        }
      ]
    },
    {
      "cell_type": "code",
      "metadata": {
        "colab": {
          "base_uri": "https://localhost:8080/",
          "height": 265
        },
        "id": "d9ilp33UIT0U",
        "outputId": "c8dac4b7-79be-4f44-efb2-3a2c280f81cc"
      },
      "source": [
        "plt.plot(history.history['accuracy'], label='accuracy')\n",
        "plt.plot(history.history['val_accuracy'], label='val_acc')\n",
        "plt.legend()\n",
        "plt.show();"
      ],
      "execution_count": 30,
      "outputs": [
        {
          "output_type": "display_data",
          "data": {
            "image/png": "[encoded data removed]",
            "text/plain": [
              "<Figure size 432x288 with 1 Axes>"
            ]
          },
          "metadata": {
            "tags": [],
            "needs_background": "light"
          }
        }
      ]
    },
    {
      "cell_type": "code",
      "metadata": {
        "colab": {
          "base_uri": "https://localhost:8080/"
        },
        "id": "bSprMUk4IZS-",
        "outputId": "7a9b55b9-2bfe-496a-82fa-c756958a2e8b"
      },
      "source": [
        "p = model.predict(data)\n",
        "aucs = []\n",
        "del i\n",
        "for i in range(5):\n",
        "  auc = roc_auc_score(targets[:,i], p[:,i])\n",
        "  aucs.append(auc)\n",
        "print(np.mean(aucs))"
      ],
      "execution_count": 31,
      "outputs": [
        {
          "output_type": "stream",
          "text": [
            "0.9718710715825385\n"
          ],
          "name": "stdout"
        }
      ]
    },
    {
      "cell_type": "code",
      "metadata": {
        "id": "B-GTbsAGNId7",
        "outputId": "c6fccf91-c22c-431a-a366-748b209f19f6",
        "colab": {
          "base_uri": "https://localhost:8080/"
        }
      },
      "source": [
        "def single_predict(sentence):\n",
        "  single_sequences = tokenizer.texts_to_sequences(sentence)\n",
        "  pad_input=[[j for i in single_sequences for j in i]]\n",
        "  single_data = pad_sequences(pad_input, maxlen=MAX_SEQ_LENGTH)\n",
        "  \n",
        "  p = model.predict(single_data)\n",
        "  p = list(p)\n",
        "  \n",
        "  print(ans)\n",
        "  print(p)\n",
        "  for i in p[0]:\n",
        "    print(max([i]))\n",
        "  print('->',max(p[0]))\n",
        "single_predict(\"very bad\")"
      ],
      "execution_count": 71,
      "outputs": [
        {
          "output_type": "stream",
          "text": [
            "toxic\n",
            "[array([2.6075065e-02, 5.9760600e-06, 6.6613555e-03, 1.2003346e-05,\n",
            "       5.0244629e-03, 4.1005015e-04], dtype=float32)]\n",
            "0.026075065\n",
            "5.97606e-06\n",
            "0.0066613555\n",
            "1.2003346e-05\n",
            "0.005024463\n",
            "0.00041005015\n",
            "-> 0.026075065\n"
          ],
          "name": "stdout"
        }
      ]
    },
    {
      "cell_type": "code",
      "metadata": {
        "id": "3IF-83QPI7-R",
        "outputId": "b76da92a-7179-468b-8ff7-7fb164209b39",
        "colab": {
          "base_uri": "https://localhost:8080/"
        }
      },
      "source": [
        "def single_predict(sentence):\n",
        "    single_sequences = tokenizer.texts_to_sequences(sentence)\n",
        "    single_data = pad_sequences(single_sequences, maxlen=MAX_SEQ_LENGTH)\n",
        "    p = model.predict(single_data)[-1]\n",
        "    lab = [\"toxic\", \"severe_toxic\", \"obscene\", \"threat\", \"insult\", \"identity_hate\"]\n",
        "    p = [i for i in p]\n",
        "    ans = lab[p.index(max(p))] if max(p) > 0.057 else \"Neutral\"\n",
        "    print(ans)\n",
        "    print(p)\n",
        "single_predict(\"youll die\")"
      ],
      "execution_count": 88,
      "outputs": [
        {
          "output_type": "stream",
          "text": [
            "toxic\n",
            "[0.12318897, 0.0014285147, 0.06058517, 0.00016668439, 0.051748753, 0.0039297044]\n"
          ],
          "name": "stdout"
        }
      ]
    },
    {
      "cell_type": "code",
      "metadata": {
        "id": "0pNDoIHtLogU"
      },
      "source": [
        ""
      ],
      "execution_count": 83,
      "outputs": []
    },
    {
      "cell_type": "code",
      "metadata": {
        "id": "oNEBt7uMNPFr"
      },
      "source": [
        ""
      ],
      "execution_count": null,
      "outputs": []
    }
  ]
}